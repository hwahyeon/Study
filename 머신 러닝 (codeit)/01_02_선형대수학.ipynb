{
  "nbformat": 4,
  "nbformat_minor": 0,
  "metadata": {
    "colab": {
      "name": "01-02 선형대수학.ipynb",
      "provenance": [],
      "collapsed_sections": [],
      "authorship_tag": "ABX9TyNBphTqAiu6ahW2NNB7mqVh",
      "include_colab_link": true
    },
    "kernelspec": {
      "name": "python3",
      "display_name": "Python 3"
    },
    "language_info": {
      "name": "python"
    }
  },
  "cells": [
    {
      "cell_type": "markdown",
      "metadata": {
        "id": "view-in-github",
        "colab_type": "text"
      },
      "source": [
        "<a href=\"https://colab.research.google.com/github/hwahyeon/Study/blob/main/%EB%A8%B8%EC%8B%A0%20%EB%9F%AC%EB%8B%9D%20(codeit)/01_02_%EC%84%A0%ED%98%95%EB%8C%80%EC%88%98%ED%95%99.ipynb\" target=\"_parent\"><img src=\"https://colab.research.google.com/assets/colab-badge.svg\" alt=\"Open In Colab\"/></a>"
      ]
    },
    {
      "cell_type": "markdown",
      "metadata": {
        "id": "7Wxomlz85E8R"
      },
      "source": [
        "# Numpy로 행렬 사용하기"
      ]
    },
    {
      "cell_type": "code",
      "metadata": {
        "id": "4fn29Nt04ncV"
      },
      "source": [
        "import numpy as np"
      ],
      "execution_count": 1,
      "outputs": []
    },
    {
      "cell_type": "code",
      "metadata": {
        "colab": {
          "base_uri": "https://localhost:8080/"
        },
        "id": "DRza_2Iy4vSA",
        "outputId": "d14005ab-fd3c-410f-fa5f-1cd2acc7c1aa"
      },
      "source": [
        "A = np.array([\n",
        "    [1, -1, 2],\n",
        "    [3, 2, 2],\n",
        "    [4, 1, 2],\n",
        "    [7, 5, 6]\n",
        "])\n",
        "\n",
        "A"
      ],
      "execution_count": 6,
      "outputs": [
        {
          "output_type": "execute_result",
          "data": {
            "text/plain": [
              "array([[ 1, -1,  2],\n",
              "       [ 3,  2,  2],\n",
              "       [ 4,  1,  2],\n",
              "       [ 7,  5,  6]])"
            ]
          },
          "metadata": {},
          "execution_count": 6
        }
      ]
    },
    {
      "cell_type": "code",
      "metadata": {
        "colab": {
          "base_uri": "https://localhost:8080/"
        },
        "id": "jTVwXp3L45EK",
        "outputId": "1e38996f-2393-4f8b-c31d-38c7a18956f2"
      },
      "source": [
        "C = np.random.rand(3, 5)\n",
        "\n",
        "C"
      ],
      "execution_count": 4,
      "outputs": [
        {
          "output_type": "execute_result",
          "data": {
            "text/plain": [
              "array([[0.18733523, 0.91209589, 0.52110965, 0.40348465, 0.18490569],\n",
              "       [0.90418337, 0.01176967, 0.60158171, 0.00623564, 0.51669149],\n",
              "       [0.62568144, 0.69534611, 0.74552765, 0.11026807, 0.93249214]])"
            ]
          },
          "metadata": {},
          "execution_count": 4
        }
      ]
    },
    {
      "cell_type": "code",
      "metadata": {
        "colab": {
          "base_uri": "https://localhost:8080/"
        },
        "id": "3B05mloz4-ki",
        "outputId": "724f137a-cd49-43a2-976d-a2972589fbf1"
      },
      "source": [
        "D = np.zeros((2, 4))\n",
        "\n",
        "D"
      ],
      "execution_count": 5,
      "outputs": [
        {
          "output_type": "execute_result",
          "data": {
            "text/plain": [
              "array([[0., 0., 0., 0.],\n",
              "       [0., 0., 0., 0.]])"
            ]
          },
          "metadata": {},
          "execution_count": 5
        }
      ]
    },
    {
      "cell_type": "code",
      "metadata": {
        "colab": {
          "base_uri": "https://localhost:8080/"
        },
        "id": "ySWXWuiD5KKA",
        "outputId": "7e8c105e-5603-436f-ec75-51342441b9d4"
      },
      "source": [
        "A"
      ],
      "execution_count": 7,
      "outputs": [
        {
          "output_type": "execute_result",
          "data": {
            "text/plain": [
              "array([[ 1, -1,  2],\n",
              "       [ 3,  2,  2],\n",
              "       [ 4,  1,  2],\n",
              "       [ 7,  5,  6]])"
            ]
          },
          "metadata": {},
          "execution_count": 7
        }
      ]
    },
    {
      "cell_type": "code",
      "metadata": {
        "colab": {
          "base_uri": "https://localhost:8080/"
        },
        "id": "Z3jNg3SO5Rq8",
        "outputId": "9888d05c-b69f-4fe3-d3d3-451422085e2a"
      },
      "source": [
        "# python에서는 0부터 셈\n",
        "\n",
        "A[0][2]"
      ],
      "execution_count": 9,
      "outputs": [
        {
          "output_type": "execute_result",
          "data": {
            "text/plain": [
              "2"
            ]
          },
          "metadata": {},
          "execution_count": 9
        }
      ]
    },
    {
      "cell_type": "code",
      "metadata": {
        "colab": {
          "base_uri": "https://localhost:8080/"
        },
        "id": "jUwmaolc5aLm",
        "outputId": "e91250c5-9fca-402c-ee05-eaf807606979"
      },
      "source": [
        "# 행렬 요소별 곱하기 Element-wise Multiplication\n",
        "\n",
        "A = np.array([\n",
        "    [1, 2, 3],\n",
        "    [4, 5, 6],\n",
        "    [7, 8, 9]\n",
        "])\n",
        "\n",
        "B = np.array([\n",
        "    [0, 1, 2],\n",
        "    [2, 0, 1],\n",
        "    [1, 2, 0]\n",
        "])\n",
        "\n",
        "A*B"
      ],
      "execution_count": 10,
      "outputs": [
        {
          "output_type": "execute_result",
          "data": {
            "text/plain": [
              "array([[ 0,  2,  6],\n",
              "       [ 8,  0,  6],\n",
              "       [ 7, 16,  0]])"
            ]
          },
          "metadata": {},
          "execution_count": 10
        }
      ]
    },
    {
      "cell_type": "code",
      "metadata": {
        "id": "iqf2_wRx9C4C"
      },
      "source": [
        "A = np.array([\n",
        "    [1, -1, 2],\n",
        "    [3, 2, 2],\n",
        "    [4, 1, 2]\n",
        "])\n",
        "\n",
        "B = np.random.rand(3, 3)"
      ],
      "execution_count": 19,
      "outputs": []
    },
    {
      "cell_type": "code",
      "metadata": {
        "colab": {
          "base_uri": "https://localhost:8080/"
        },
        "id": "WQ7ag8ll9otb",
        "outputId": "34716fc5-4870-4aa6-eb22-a87a617a91b1"
      },
      "source": [
        "# 행렬 합\n",
        "A + B"
      ],
      "execution_count": 21,
      "outputs": [
        {
          "output_type": "execute_result",
          "data": {
            "text/plain": [
              "array([[ 1.09509223, -0.5972545 ,  2.1381759 ],\n",
              "       [ 3.55326235,  2.72486219,  2.74439447],\n",
              "       [ 4.06289985,  1.07253726,  2.89554637]])"
            ]
          },
          "metadata": {},
          "execution_count": 21
        }
      ]
    },
    {
      "cell_type": "code",
      "metadata": {
        "colab": {
          "base_uri": "https://localhost:8080/"
        },
        "id": "DrmenuW_9qBb",
        "outputId": "66b71424-fea6-4f22-99e3-6bb540de9d83"
      },
      "source": [
        "# 행렬과 스칼라 곱\n",
        "5 * A"
      ],
      "execution_count": 22,
      "outputs": [
        {
          "output_type": "execute_result",
          "data": {
            "text/plain": [
              "array([[ 5, -5, 10],\n",
              "       [15, 10, 10],\n",
              "       [20,  5, 10]])"
            ]
          },
          "metadata": {},
          "execution_count": 22
        }
      ]
    },
    {
      "cell_type": "code",
      "metadata": {
        "colab": {
          "base_uri": "https://localhost:8080/"
        },
        "id": "xkX4Q5Rh9Nli",
        "outputId": "9f70f270-416b-4665-ac7e-e10251719dca"
      },
      "source": [
        "# 행렬끼리 곱\n",
        "np.dot(A, B)\n",
        "A @ B"
      ],
      "execution_count": 23,
      "outputs": [
        {
          "output_type": "execute_result",
          "data": {
            "text/plain": [
              "array([[-0.33237042, -0.17704217,  1.18487417],\n",
              "       [ 1.51760109,  2.8030354 ,  3.6944094 ],\n",
              "       [ 1.05943097,  2.48091872,  3.08819082]])"
            ]
          },
          "metadata": {},
          "execution_count": 23
        }
      ]
    },
    {
      "cell_type": "code",
      "metadata": {
        "colab": {
          "base_uri": "https://localhost:8080/"
        },
        "id": "cDVHIEwdXaIt",
        "outputId": "a2fb4ca4-f7f4-4e83-8f93-34bbe6161ffa"
      },
      "source": [
        "# 전치 행렬\n",
        "\n",
        "A_transpose = np.transpose(A)\n",
        "A_transpose\n",
        "\n",
        "A_trans = A.T\n",
        "A_trans"
      ],
      "execution_count": 24,
      "outputs": [
        {
          "output_type": "execute_result",
          "data": {
            "text/plain": [
              "array([[ 1,  3,  4],\n",
              "       [-1,  2,  1],\n",
              "       [ 2,  2,  2]])"
            ]
          },
          "metadata": {},
          "execution_count": 24
        }
      ]
    },
    {
      "cell_type": "code",
      "metadata": {
        "colab": {
          "base_uri": "https://localhost:8080/"
        },
        "id": "UG8r_ATsXlq5",
        "outputId": "abf8d475-778d-4a2c-e763-fa8295fcc804"
      },
      "source": [
        "# 단위 행렬\n",
        "I = np.identity(3)\n",
        "I"
      ],
      "execution_count": 25,
      "outputs": [
        {
          "output_type": "execute_result",
          "data": {
            "text/plain": [
              "array([[1., 0., 0.],\n",
              "       [0., 1., 0.],\n",
              "       [0., 0., 1.]])"
            ]
          },
          "metadata": {},
          "execution_count": 25
        }
      ]
    },
    {
      "cell_type": "code",
      "metadata": {
        "colab": {
          "base_uri": "https://localhost:8080/"
        },
        "id": "DG5S8_5_Xp1l",
        "outputId": "9bbd803d-19b7-4d63-f1f3-ca559b62980f"
      },
      "source": [
        "A @ I"
      ],
      "execution_count": 26,
      "outputs": [
        {
          "output_type": "execute_result",
          "data": {
            "text/plain": [
              "array([[ 1., -1.,  2.],\n",
              "       [ 3.,  2.,  2.],\n",
              "       [ 4.,  1.,  2.]])"
            ]
          },
          "metadata": {},
          "execution_count": 26
        }
      ]
    },
    {
      "cell_type": "code",
      "metadata": {
        "colab": {
          "base_uri": "https://localhost:8080/"
        },
        "id": "A95pkhgLXrpK",
        "outputId": "801ca472-8909-49fd-ef3a-e373bbff3033"
      },
      "source": [
        "# 역행렬\n",
        "# pinv는 역행렬이 없으면 최대한 비슷한 효과를 내는 행렬을 반환함.\n",
        "A_inverse = np.linalg.pinv(A)\n",
        "A_inverse"
      ],
      "execution_count": 27,
      "outputs": [
        {
          "output_type": "execute_result",
          "data": {
            "text/plain": [
              "array([[-0.2, -0.4,  0.6],\n",
              "       [-0.2,  0.6, -0.4],\n",
              "       [ 0.5,  0.5, -0.5]])"
            ]
          },
          "metadata": {},
          "execution_count": 27
        }
      ]
    },
    {
      "cell_type": "code",
      "metadata": {
        "colab": {
          "base_uri": "https://localhost:8080/"
        },
        "id": "H5KbouOXX5O4",
        "outputId": "652cfb92-182c-436b-d966-fe0db59d5e8a"
      },
      "source": [
        "# 곱해서 단위행렬이 나오면 역행렬이 맞음.\n",
        "A @ A_inverse\n",
        "\n",
        "# 0에 가까운 수가 나오는 것은 컴퓨터가 소수0를 다룰 떄 완벽하게 표현하기 어렵기 때문이다."
      ],
      "execution_count": 28,
      "outputs": [
        {
          "output_type": "execute_result",
          "data": {
            "text/plain": [
              "array([[ 1.00000000e+00,  4.44089210e-16, -1.11022302e-15],\n",
              "       [-2.22044605e-16,  1.00000000e+00, -6.66133815e-16],\n",
              "       [ 0.00000000e+00,  2.22044605e-16,  1.00000000e+00]])"
            ]
          },
          "metadata": {},
          "execution_count": 28
        }
      ]
    }
  ]
}