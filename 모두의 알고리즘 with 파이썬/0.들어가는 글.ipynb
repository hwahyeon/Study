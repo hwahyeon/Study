{
  "nbformat": 4,
  "nbformat_minor": 0,
  "metadata": {
    "colab": {
      "name": "0 들어가는 글.ipynb",
      "provenance": [],
      "collapsed_sections": [],
      "authorship_tag": "ABX9TyPjSc5tNT0V3NxhP5nX3ZC2",
      "include_colab_link": true
    },
    "kernelspec": {
      "name": "python3",
      "display_name": "Python 3"
    },
    "language_info": {
      "name": "python"
    }
  },
  "cells": [
    {
      "cell_type": "markdown",
      "metadata": {
        "id": "view-in-github",
        "colab_type": "text"
      },
      "source": [
        "<a href=\"https://colab.research.google.com/github/hwahyeon/Study/blob/main/%EB%AA%A8%EB%91%90%EC%9D%98%20%EC%95%8C%EA%B3%A0%EB%A6%AC%EC%A6%98%20with%20%ED%8C%8C%EC%9D%B4%EC%8D%AC/0.%EB%93%A4%EC%96%B4%EA%B0%80%EB%8A%94%20%EA%B8%80.ipynb\" target=\"_parent\"><img src=\"https://colab.research.google.com/assets/colab-badge.svg\" alt=\"Open In Colab\"/></a>"
      ]
    },
    {
      "cell_type": "markdown",
      "metadata": {
        "id": "sJVP8wg0Ii4T"
      },
      "source": [
        "#절댓값 구하기 알고리즘"
      ]
    },
    {
      "cell_type": "code",
      "metadata": {
        "id": "Yjl-aTtXIe2c"
      },
      "source": [
        "def abs_sign(a):\n",
        "    if a >= 0:\n",
        "        return a\n",
        "    else:\n",
        "        return -a"
      ],
      "execution_count": 1,
      "outputs": []
    },
    {
      "cell_type": "code",
      "metadata": {
        "id": "Ky7s3mskIrUD"
      },
      "source": [
        "import math\n",
        "\n",
        "def abs_square(a):\n",
        "    b = a * a\n",
        "    return math.sqrt(b)"
      ],
      "execution_count": 2,
      "outputs": []
    },
    {
      "cell_type": "code",
      "metadata": {
        "colab": {
          "base_uri": "https://localhost:8080/"
        },
        "id": "w3TWRkQQIt4d",
        "outputId": "c6ec887c-3f09-4bd1-844a-7ec1670b309a"
      },
      "source": [
        "print(abs_sign(5))\n",
        "print(abs_sign(-3))\n",
        "print(abs_square(5))\n",
        "print(abs_square(-3))"
      ],
      "execution_count": 3,
      "outputs": [
        {
          "output_type": "stream",
          "name": "stdout",
          "text": [
            "5\n",
            "3\n",
            "5.0\n",
            "3.0\n"
          ]
        }
      ]
    },
    {
      "cell_type": "markdown",
      "metadata": {
        "id": "L7tepwioI3Lb"
      },
      "source": [
        "math.sqrt()는 소수점이 붙은 값을 돌려준다."
      ]
    }
  ]
}