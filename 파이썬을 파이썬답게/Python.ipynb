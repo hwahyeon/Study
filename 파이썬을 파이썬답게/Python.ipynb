{
  "nbformat": 4,
  "nbformat_minor": 0,
  "metadata": {
    "colab": {
      "name": "Python.ipynb",
      "provenance": [],
      "collapsed_sections": [],
      "authorship_tag": "ABX9TyN02R+KLoqg+dTU9bjtPTv8",
      "include_colab_link": true
    },
    "kernelspec": {
      "name": "python3",
      "display_name": "Python 3"
    },
    "language_info": {
      "name": "python"
    }
  },
  "cells": [
    {
      "cell_type": "markdown",
      "metadata": {
        "id": "view-in-github",
        "colab_type": "text"
      },
      "source": [
        "<a href=\"https://colab.research.google.com/github/hwahyeon/Study/blob/main/%ED%8C%8C%EC%9D%B4%EC%8D%AC%EC%9D%84%20%ED%8C%8C%EC%9D%B4%EC%8D%AC%EB%8B%B5%EA%B2%8C/Python.ipynb\" target=\"_parent\"><img src=\"https://colab.research.google.com/assets/colab-badge.svg\" alt=\"Open In Colab\"/></a>"
      ]
    },
    {
      "cell_type": "markdown",
      "metadata": {
        "id": "yC4fOB3O1e6H"
      },
      "source": [
        "##**파트1. Python 꿀팁**"
      ]
    },
    {
      "cell_type": "markdown",
      "metadata": {
        "id": "nct0kDMq4Fdz"
      },
      "source": [
        "###**수강 전에 이 문제를 풀어보세요.**\n",
        "\n",
        "정수를 담은 이차원 리스트, mylist 가 solution 함수의 파라미터로 주어집니다. mylist에 들은 각 원소의 길이를 담은 리스트를 리턴하도록 solution 함수를 작성해주세요."
      ]
    },
    {
      "cell_type": "code",
      "metadata": {
        "colab": {
          "base_uri": "https://localhost:8080/"
        },
        "id": "AC-mwx5t3c1a",
        "outputId": "d125b1b2-1448-4bea-dae8-ed451e90f984"
      },
      "source": [
        "# Before\n",
        "def solution(mylist):\n",
        "    res_ = []\n",
        "    for i in mylist:\n",
        "        res_.append(len(i))\n",
        "    return res_\n",
        "\n",
        "solution([[1, 2], [3, 4], [5]])"
      ],
      "execution_count": 4,
      "outputs": [
        {
          "output_type": "execute_result",
          "data": {
            "text/plain": [
              "[2, 2, 1]"
            ]
          },
          "metadata": {},
          "execution_count": 4
        }
      ]
    },
    {
      "cell_type": "code",
      "metadata": {
        "colab": {
          "base_uri": "https://localhost:8080/"
        },
        "id": "41zq43923lNo",
        "outputId": "2af74739-9286-4866-b628-20a98b656ff0"
      },
      "source": [
        "# After\n",
        "def solution(mylist):\n",
        "    return list(map(len, mylist))\n",
        "\n",
        "solution([[1, 2], [3, 4], [5]])"
      ],
      "execution_count": 3,
      "outputs": [
        {
          "output_type": "execute_result",
          "data": {
            "text/plain": [
              "[1, 1]"
            ]
          },
          "metadata": {},
          "execution_count": 3
        }
      ]
    },
    {
      "cell_type": "markdown",
      "metadata": {
        "id": "J138aXbV4Uap"
      },
      "source": [
        "*   iterable: 자신의 멤버를 한 번에 하나씩 리턴할 수 있는 객체입니다. list, str, tuple, dict 등이 여기에 속합니다.\n",
        "\n",
        "*   sequence: int 타입 인덱스를 통해, 원소에 접근할 수 있는 iterable 입니다. iterable의 하위 카테고리라고 생각하시면 됩니다. list, str, tuple이 여기 속합니다. ( dictionary는 다양한 타입을 통해 원소에 접근할 수 있기 때문에 sequence에 속하지 않습니다."
      ]
    },
    {
      "cell_type": "markdown",
      "metadata": {
        "id": "MrdQE-mR1tuJ"
      },
      "source": [
        "##**파트2. 정수 다루기**"
      ]
    },
    {
      "cell_type": "markdown",
      "metadata": {
        "id": "kkALckL24ofg"
      },
      "source": [
        "###**몫과 나머지 - divmod**\n",
        "\n",
        "###문제 설명\n",
        "숫자 a, b가 주어졌을 때 a를 b로 나눈 몫과 a를 b로 나눈 나머지를 공백으로 구분해 출력해보세요.\n",
        "\n",
        "###입력 설명\n",
        "입력으로는 공백으로 구분된 숫자가 두 개 주어집니다.\n",
        "첫 번째 숫자는 a를 나타내며, 두 번째 숫자는 b를 나타냅니다.\n",
        "\n",
        "###출력 설명\n",
        "a를 b로 나눈 몫과 a를 b로 나눈 나머지를 공백으로 구분해 출력하세요.\n",
        "\n",
        "###제한 조건\n",
        "a와 b는 자연수입니다."
      ]
    },
    {
      "cell_type": "code",
      "metadata": {
        "colab": {
          "base_uri": "https://localhost:8080/"
        },
        "id": "3r9Pcmcd4nVv",
        "outputId": "22c6cd08-47ea-4c64-a6d8-74c94423329c"
      },
      "source": [
        "# Before\n",
        "a, b = map(int, input().strip().split(' '))\n",
        "print((a//b), (a%b))\n",
        "\n",
        "# input 5 3 / output 1 2"
      ],
      "execution_count": 6,
      "outputs": [
        {
          "output_type": "stream",
          "text": [
            "5 3\n",
            "1 2\n"
          ],
          "name": "stdout"
        }
      ]
    },
    {
      "cell_type": "code",
      "metadata": {
        "colab": {
          "base_uri": "https://localhost:8080/"
        },
        "id": "qNxWISk449py",
        "outputId": "827302f8-40f7-453c-f8ca-c52fecce3677"
      },
      "source": [
        "# After\n",
        "a = 5\n",
        "b = 3\n",
        "print(*divmod(a, b))"
      ],
      "execution_count": 8,
      "outputs": [
        {
          "output_type": "stream",
          "text": [
            "1 2\n"
          ],
          "name": "stdout"
        }
      ]
    },
    {
      "cell_type": "markdown",
      "metadata": {
        "id": "TIctm1fq5mZE"
      },
      "source": [
        "divmod는 작은 숫자를 다룰 때 a//b, a%b 보다 느립니다. 대신, 큰 숫자를 다룰 때는 전자가 후자보다 더 빠르지요."
      ]
    },
    {
      "cell_type": "markdown",
      "metadata": {
        "id": "Pn8_Ow7_5ryj"
      },
      "source": [
        "###**n진법으로 표기된 string을 10진법 숫자로 변환하기 - int 함수**\n",
        "\n",
        "###문제 설명\n",
        "base 진법으로 표기된 숫자를 10진법 숫자 출력해보세요.\n",
        "\n",
        "###입력 설명\n",
        "입력으로는 공백으로 구분된 숫자가 두 개 주어집니다.\n",
        "첫 번째 숫자는 num을 나타내며, 두 번째 숫자는 base를 나타냅니다.\n",
        "\n",
        "###출력 설명\n",
        "base 진법으로 표기된 num을 10진법 숫자로 출력해보세요.\n",
        "\n",
        "###제한 조건\n",
        "base는 10 이하인 자연수입니다.\n",
        "num은 3000 이하인 자연수입니다."
      ]
    },
    {
      "cell_type": "code",
      "metadata": {
        "colab": {
          "base_uri": "https://localhost:8080/"
        },
        "id": "4oP0GCPu52Sj",
        "outputId": "709735b6-8769-4c2a-a131-54a680d610e2"
      },
      "source": [
        "num, base = map(int, input().strip().split(' '))\n",
        "print(int(str(num), base))\n",
        "\n",
        "# input 12 3 / output 5"
      ],
      "execution_count": 9,
      "outputs": [
        {
          "output_type": "stream",
          "text": [
            "12 3\n",
            "5\n"
          ],
          "name": "stdout"
        }
      ]
    },
    {
      "cell_type": "markdown",
      "metadata": {
        "id": "R0gok2ZZ6Mqs"
      },
      "source": [
        "파이썬의 int(x, base=10) 함수는 진법 변환을 지원합니다."
      ]
    },
    {
      "cell_type": "markdown",
      "metadata": {
        "id": "oSimF6fA1wT6"
      },
      "source": [
        "##**파트3. Str 다루기**"
      ]
    },
    {
      "cell_type": "markdown",
      "metadata": {
        "id": "JhkfH2dW6z36"
      },
      "source": [
        "###**문자열 정렬하기 - ljust, center, rjust**\n",
        "\n",
        "###문제 설명\n",
        "문자열 s와 자연수 n이 입력으로 주어집니다. 문자열 s를 좌측 / 가운데 / 우측 정렬한 길이 n인 문자열을 한 줄씩 프린트해보세요."
      ]
    },
    {
      "cell_type": "code",
      "metadata": {
        "colab": {
          "base_uri": "https://localhost:8080/"
        },
        "id": "6eu0cxyE68f7",
        "outputId": "19944749-6025-477f-a588-3378643cfa0d"
      },
      "source": [
        "s, n = input().strip().split(' ')\n",
        "n = int(n)\n",
        "print(s.ljust(n))\n",
        "print(s.center(n))\n",
        "print(s.rjust(n))\n",
        "\n",
        "#input abc 7"
      ],
      "execution_count": 11,
      "outputs": [
        {
          "output_type": "stream",
          "text": [
            "abc 7\n",
            "abc    \n",
            "  abc  \n",
            "    abc\n"
          ],
          "name": "stdout"
        }
      ]
    },
    {
      "cell_type": "markdown",
      "metadata": {
        "id": "TkOuFM0k7IEC"
      },
      "source": [
        "파이썬에서는 ljust, center, rjust와 같은 string의 메소드를 사용해 코드를 획기적으로 줄일 수 있습니다."
      ]
    },
    {
      "cell_type": "markdown",
      "metadata": {
        "id": "aWiEkJA37NLj"
      },
      "source": [
        "###**알파벳 출력하기**\n",
        "###문제 설명\n",
        "입력으로 0이 주어지면 영문 소문자 알파벳을, 입력으로 1이 주어지면 영문 대문자 알파벳을 사전 순으로 출력하는 코드를 짜세요."
      ]
    },
    {
      "cell_type": "code",
      "metadata": {
        "colab": {
          "base_uri": "https://localhost:8080/"
        },
        "id": "6681JSb_7TgS",
        "outputId": "da7ff67e-dc74-40eb-8d8d-2d844450c1ee"
      },
      "source": [
        "import string \n",
        "\n",
        "num = int(input().strip())\n",
        "if num == 0:\n",
        "    print(string.ascii_lowercase)\n",
        "else:\n",
        "    print(string.ascii_uppercase)\n",
        "\n",
        "# input 0 or 1"
      ],
      "execution_count": 12,
      "outputs": [
        {
          "output_type": "stream",
          "text": [
            "0\n",
            "abcdefghijklmnopqrstuvwxyz\n"
          ],
          "name": "stdout"
        }
      ]
    },
    {
      "cell_type": "code",
      "metadata": {
        "id": "QXOFnpqa7gQS"
      },
      "source": [
        "# 파이썬은 이런 데이터를 상수(constants)로 정의해놓았습니다.\n",
        "import string \n",
        "\n",
        "string.ascii_lowercase # 소문자 abcdefghijklmnopqrstuvwxyz\n",
        "string.ascii_uppercase # 대문자 ABCDEFGHIJKLMNOPQRSTUVWXYZ\n",
        "string.ascii_letters # 대소문자 모두 abcdefghijklmnopqrstuvwxyzABCDEFGHIJKLMNOPQRSTUVWXYZ\n",
        "string.digits # 숫자 0123456789"
      ],
      "execution_count": null,
      "outputs": []
    },
    {
      "cell_type": "markdown",
      "metadata": {
        "id": "JvQM5-CD1x7O"
      },
      "source": [
        "##**파트4. Iterable 다루기**"
      ]
    },
    {
      "cell_type": "markdown",
      "metadata": {
        "id": "Vh_Dd19F7nOL"
      },
      "source": [
        "###**원본을 유지한채, 정렬된 리스트 구하기 - sorted**\n",
        "파이썬의 sort() 함수를 사용하면 리스트의 원소를 정렬할 수 있습니다. 이때, sort 함수는 원본의 멤버 순서를 변경하지요."
      ]
    },
    {
      "cell_type": "code",
      "metadata": {
        "colab": {
          "base_uri": "https://localhost:8080/"
        },
        "id": "avQl5Gvh71Qp",
        "outputId": "b9d43380-7c02-419b-9013-7123353341fa"
      },
      "source": [
        "list1 = [4, 5, 6, 3, 2, 1, 7]\n",
        "list2 = sorted(list1)\n",
        "print(list2)"
      ],
      "execution_count": 14,
      "outputs": [
        {
          "output_type": "stream",
          "text": [
            "[1, 2, 3, 4, 5, 6, 7]\n"
          ],
          "name": "stdout"
        }
      ]
    },
    {
      "cell_type": "markdown",
      "metadata": {
        "id": "I6ewYTn17lTN"
      },
      "source": [
        "###**2차원 리스트 뒤집기**\n",
        "\n",
        "다음을 만족하는 함수, solution을 완성해주세요.\n",
        "\n",
        "solution 함수는 이차원 리스트, mylist를 인자로 받습니다\n",
        "solution 함수는 mylist 원소의 행과 열을 뒤집은 한 값을 리턴해야합니다.\n",
        "예를 들어 mylist [[1, 2, 3], [4, 5, 6], [7, 8, 9]]가 주어진 경우, solution 함수는 [[1, 4, 7], [2, 5, 8], [3, 6, 9]] 을 리턴하면 됩니다."
      ]
    },
    {
      "cell_type": "code",
      "metadata": {
        "colab": {
          "base_uri": "https://localhost:8080/"
        },
        "id": "4EkhYAIw_yRB",
        "outputId": "90c52bf9-c813-4186-95dc-defdd34378ee"
      },
      "source": [
        "def solution(mylist):\n",
        "    return list(map(list, zip(*mylist)))\n",
        "\n",
        "solution([[0, 3, 1, 2], [1, 1, 3, 4], [0, 3, 1, 3], [3, 0, 3, 1]])"
      ],
      "execution_count": 16,
      "outputs": [
        {
          "output_type": "execute_result",
          "data": {
            "text/plain": [
              "[[0, 1, 0, 3], [3, 1, 3, 0], [1, 3, 1, 3], [2, 4, 3, 1]]"
            ]
          },
          "metadata": {},
          "execution_count": 16
        }
      ]
    },
    {
      "cell_type": "markdown",
      "metadata": {
        "id": "OMng3kKf_6WO"
      },
      "source": [
        "zip(*iterables)는 각 iterables 의 요소들을 모으는 이터레이터를 만듭니다.\n",
        "튜플의 이터레이터를 돌려주는데, i 번째 튜플은 각 인자로 전달된 시퀀스나 이터러블의 i 번째 요소를 포함합니다."
      ]
    },
    {
      "cell_type": "code",
      "metadata": {
        "colab": {
          "base_uri": "https://localhost:8080/"
        },
        "id": "hDFJLmZWBHwq",
        "outputId": "db888615-60bf-4b61-9853-a207d9a867f9"
      },
      "source": [
        "# ex1\n",
        "mylist = [1, 2, 3]\n",
        "new_list = [40, 50, 60]\n",
        "for i in zip(mylist, new_list):\n",
        "    print (i)"
      ],
      "execution_count": 17,
      "outputs": [
        {
          "output_type": "stream",
          "text": [
            "(1, 40)\n",
            "(2, 50)\n",
            "(3, 60)\n"
          ],
          "name": "stdout"
        }
      ]
    },
    {
      "cell_type": "code",
      "metadata": {
        "colab": {
          "base_uri": "https://localhost:8080/"
        },
        "id": "jIf-JPpCBKN1",
        "outputId": "72d66825-92f9-4fa6-a22a-db83acc70ddf"
      },
      "source": [
        "# ex2\n",
        "list1 = [1, 2, 3, 4]\n",
        "list2 = [100, 120, 30, 300]\n",
        "list3 = [392, 2, 33, 1]\n",
        "answer = []\n",
        "for number1, number2, number3 in zip(list1, list2, list3):\n",
        "   print(number1 + number2 + number3)"
      ],
      "execution_count": 18,
      "outputs": [
        {
          "output_type": "stream",
          "text": [
            "493\n",
            "124\n",
            "66\n",
            "305\n"
          ],
          "name": "stdout"
        }
      ]
    },
    {
      "cell_type": "code",
      "metadata": {
        "colab": {
          "base_uri": "https://localhost:8080/"
        },
        "id": "jxjYNSsOBOT9",
        "outputId": "83b52d3a-3080-45c4-aad0-9a5f0081680d"
      },
      "source": [
        "# ex 3 Key 리스트와 Value 리스트로 딕셔너리 생성하기\n",
        "animals = ['cat', 'dog', 'lion']\n",
        "sounds = ['meow', 'woof', 'roar']\n",
        "answer = dict(zip(animals, sounds)) # {'cat': 'meow', 'dog': 'woof', 'lion': 'roar'}\n",
        "print(answer)"
      ],
      "execution_count": 21,
      "outputs": [
        {
          "output_type": "stream",
          "text": [
            "{'cat': 'meow', 'dog': 'woof', 'lion': 'roar'}\n"
          ],
          "name": "stdout"
        }
      ]
    },
    {
      "cell_type": "markdown",
      "metadata": {
        "id": "VolkaVnm10Ak"
      },
      "source": [
        "##**파트5. Sequence Types 다루기**"
      ]
    },
    {
      "cell_type": "markdown",
      "metadata": {
        "id": "POnhBpWP12h6"
      },
      "source": [
        "##**파트6. Itertools / Collections 모듈**"
      ]
    },
    {
      "cell_type": "markdown",
      "metadata": {
        "id": "Lk1WcCYb15bW"
      },
      "source": [
        "##**파트7. 기타**"
      ]
    },
    {
      "cell_type": "code",
      "metadata": {
        "id": "hiGDpFhd1V_6"
      },
      "source": [
        "def solution(mylist):\n",
        "    answer = []\n",
        "    for i in mylist:\n",
        "        if (i % 2) == 0:\n",
        "            answer.append(i**2)\n",
        "    return answer"
      ],
      "execution_count": null,
      "outputs": []
    }
  ]
}