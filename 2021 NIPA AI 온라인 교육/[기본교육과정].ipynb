{
  "nbformat": 4,
  "nbformat_minor": 0,
  "metadata": {
    "colab": {
      "name": "[기본교육과정].ipynb",
      "provenance": [],
      "collapsed_sections": [],
      "authorship_tag": "ABX9TyM9XXYlhOeWKyP2V/LQ9vGN",
      "include_colab_link": true
    },
    "kernelspec": {
      "name": "python3",
      "display_name": "Python 3"
    },
    "language_info": {
      "name": "python"
    }
  },
  "cells": [
    {
      "cell_type": "markdown",
      "metadata": {
        "id": "view-in-github",
        "colab_type": "text"
      },
      "source": [
        "<a href=\"https://colab.research.google.com/github/hwahyeon/Study/blob/main/2021%20NIPA%20AI%20%EC%98%A8%EB%9D%BC%EC%9D%B8%20%EA%B5%90%EC%9C%A1/%5B%EA%B8%B0%EB%B3%B8%EA%B5%90%EC%9C%A1%EA%B3%BC%EC%A0%95%5D.ipynb\" target=\"_parent\"><img src=\"https://colab.research.google.com/assets/colab-badge.svg\" alt=\"Open In Colab\"/></a>"
      ]
    },
    {
      "cell_type": "markdown",
      "metadata": {
        "id": "sdta-c-i4YAh"
      },
      "source": [
        "빠르게 훑으면서 도움될 것만 부분만 기록\n",
        "\n",
        "[기본교육과정] 핵심 파이썬 기초 프로그래밍\n",
        "\n",
        "[기본교육과정] 데이터 분석을 위한 라이브러리"
      ]
    },
    {
      "cell_type": "markdown",
      "metadata": {
        "id": "dTIReeTkKdUm"
      },
      "source": [
        "##**[기본교육과정] 핵심 파이썬 기초 프로그래밍**"
      ]
    },
    {
      "cell_type": "code",
      "metadata": {
        "colab": {
          "base_uri": "https://localhost:8080/"
        },
        "id": "u7rBySXV4ZWr",
        "outputId": "934ca29f-d2dc-47cd-b3af-09d0cb253549"
      },
      "source": [
        "# print() 에서 자료형이 다르면 comma로 나누어 한 번에 출력할 수 있다.\n",
        "print(1, \"123\")"
      ],
      "execution_count": null,
      "outputs": [
        {
          "output_type": "stream",
          "name": "stdout",
          "text": [
            "1 123\n"
          ]
        }
      ]
    },
    {
      "cell_type": "code",
      "metadata": {
        "id": "BJVUT9_7l780",
        "colab": {
          "base_uri": "https://localhost:8080/"
        },
        "outputId": "a5438482-9aa2-4898-a423-86758507a4b2"
      },
      "source": [
        "# 조건도 변수에 참과 거짓으로 넣을 수 있다.\n",
        "ans1 = (1==1)\n",
        "ans2 = (2<1)\n",
        "\n",
        "print(ans1, ans2)"
      ],
      "execution_count": null,
      "outputs": [
        {
          "output_type": "stream",
          "name": "stdout",
          "text": [
            "True False\n"
          ]
        }
      ]
    },
    {
      "cell_type": "code",
      "metadata": {
        "colab": {
          "base_uri": "https://localhost:8080/"
        },
        "id": "E1XzOFRv4_HB",
        "outputId": "c4c488c5-d5dc-48da-a283-c3cb9c7d8e7a"
      },
      "source": [
        "#문자 개수 세는 프로그램\n",
        "\n",
        "mix = \"쌀쌀쌀쌀쌀쌀쌀쌀쌀쌀쌀쌀쌀쌀쌀쌀쌀쌀쌀쌀쌀쌀쌀쌀쌀쌀쌀쌀쌀쌀쌀쌀쌀쌀쌀쌀쌀쌀쌀쌀쌀쌀쌀쌀쌀쌀쌀쌀쌀쌀\"\n",
        "\n",
        "#내가 푼 식\n",
        "print(mix.count('쌀'))\n",
        "\n",
        "# 조건문을 활용한 식\n",
        "count = 0\n",
        "for i in mix:\n",
        "  if i=='쌀':\n",
        "    count += 1\n",
        "print(count)"
      ],
      "execution_count": null,
      "outputs": [
        {
          "output_type": "stream",
          "name": "stdout",
          "text": [
            "50\n",
            "50\n"
          ]
        }
      ]
    },
    {
      "cell_type": "code",
      "metadata": {
        "colab": {
          "base_uri": "https://localhost:8080/"
        },
        "id": "z1-M9Nm-5s6H",
        "outputId": "d8f757d6-62ac-491f-b3ed-f29adce6f4ba"
      },
      "source": [
        "# list.append(d)\n",
        "# 자료 d를 리스트 마지막에 추가, 오직 한 개의 자료만 넣을 수 있음.\n",
        "\n",
        "# list.insert(i, d)\n",
        "# 인덱스 i에 자료 d를 추가, 오직 한 개의 자료만 넣을 수 있음.\n",
        "\n",
        "# list.remove(d)\n",
        "# \"처음 나오는 자료 d\"를 제거, 즉 중복 시 인덱스가 작은 원소가 제거됨.\n",
        "\n",
        "lst_ = [3,1,2,3]\n",
        "lst_.remove(3)\n",
        "print(lst_)"
      ],
      "execution_count": null,
      "outputs": [
        {
          "output_type": "stream",
          "name": "stdout",
          "text": [
            "[1, 2, 3]\n"
          ]
        }
      ]
    },
    {
      "cell_type": "code",
      "metadata": {
        "colab": {
          "base_uri": "https://localhost:8080/"
        },
        "id": "zaeLeMos7W-_",
        "outputId": "eb065659-395b-4e3a-9636-7f7be2123231"
      },
      "source": [
        "# 순서가 있는 자료형을 시퀀스라고 한다. 문자열, 리스트, 튜플 등이 시퀀스 자료형이다.\n",
        "\n",
        "# 1. 순서가 존재해서 인덱싱/슬라이싱이 가능\n",
        "\n",
        "# 2. in 연산자로 원소 조회 가능 / 결과는 True or False로 나옴.\n",
        "a = \"once\"\n",
        "b = ['t', 'w', 'i', 'c', 'e']\n",
        "c = ('t', 'w', 'i', 'c', 'e')\n",
        "print('o' in a)\n",
        "print('o' in b)\n",
        "print('e' in c)\n",
        "\n",
        "# 3. 길이 확인이 가능하다.\n",
        "\n",
        "# 4. +연산자로 시퀀스를 이어 붙일 수 있다.\n",
        "\n",
        "# 5. *연산자로 반복이 가능하다."
      ],
      "execution_count": null,
      "outputs": [
        {
          "output_type": "stream",
          "name": "stdout",
          "text": [
            "True\n",
            "False\n",
            "True\n"
          ]
        }
      ]
    },
    {
      "cell_type": "code",
      "metadata": {
        "colab": {
          "base_uri": "https://localhost:8080/"
        },
        "id": "DF36zm-r-rMh",
        "outputId": "e610c685-20b0-47fe-c96f-501cef32c946"
      },
      "source": [
        "# 딕셔너리 {key:value} 형식이며 key를 알면 value를 알 수 있다.\n",
        "\n",
        "my_dict1 = {\"사과\":\"apple\", \"바나나\":\"banana\", \"당근\":\"carrot\"}\n",
        "var1 = my_dict1['사과']\n",
        "# key로 원소 삭제\n",
        "del my_dict1['당근']\n",
        "\n",
        "# key로 추가\n",
        "my_dict1['체리'] = 'cherry'\n",
        "print(my_dict1)\n",
        "\n",
        "\n",
        "# Key는 변할 수 없는 자료형이여야 한다. 즉, 리스트는 불가, 튜플은 가능\n",
        "my_dict2 = {}\n",
        "my_dict2[1] = \"Integer\"\n",
        "my_dict2[\"a\"] = \"String\"\n",
        "my_dict2[(1,2,3)] = \"Tuple\"\n",
        "\n",
        "try:\n",
        "    #여기에 [1, 2, 3] → \"List\"의 대응관계를 만들어봅시다.\n",
        "    my_dict2[[1,2,3]] = \"List\"\n",
        "    \n",
        "except TypeError:\n",
        "    print(\"List는 Dictionary의 Key가 될 수 없습니다.\")"
      ],
      "execution_count": null,
      "outputs": [
        {
          "output_type": "stream",
          "name": "stdout",
          "text": [
            "{'사과': 'apple', '바나나': 'banana', '체리': 'cherry'}\n",
            "List는 Dictionary의 Key가 될 수 없습니다.\n"
          ]
        }
      ]
    },
    {
      "cell_type": "code",
      "metadata": {
        "colab": {
          "base_uri": "https://localhost:8080/"
        },
        "id": "jnvrAYsyF6zv",
        "outputId": "7c676bb2-823d-4c48-f255-3d6e5d72a197"
      },
      "source": [
        "#시퀀스 자료 중에서 가장 큰 것 max, 작은 것 min\n",
        "\n",
        "print(max('사가나다라마바'))\n",
        "print(min('xyzabc'))"
      ],
      "execution_count": null,
      "outputs": [
        {
          "output_type": "stream",
          "name": "stdout",
          "text": [
            "사\n",
            "a\n"
          ]
        }
      ]
    },
    {
      "cell_type": "code",
      "metadata": {
        "id": "PRwWYyRPH-jI"
      },
      "source": [
        "# Method는 특정 자료에 대해 특정 기능을 하는 코드를 말함.\n",
        "# (특정 기능을 하는 코드 = 함수)\n",
        "# my_list.append()\n",
        "# my_list에서 특정 기능을 하고 있는 append같은 것이 메서드이다.\n",
        "\n",
        "# 함수는 특정 기능을 한다. (매개변수를 이용해 자료를 전달한다.)\n",
        "# 메서드는 특정 자료와 연관 지어 기능을 한다. (자료 뒤에 .을 찍어 사용한다)"
      ],
      "execution_count": null,
      "outputs": []
    },
    {
      "cell_type": "code",
      "metadata": {
        "colab": {
          "base_uri": "https://localhost:8080/"
        },
        "id": "YK8UKPD4I_HI",
        "outputId": "7c03b64c-fcde-4a0e-8356-a44c0965e927"
      },
      "source": [
        "#매개변수(parameter) : 함수를 정의할 때(만들 때) 넘겨받은 값을 관리하는 변수\n",
        "#인자(argument) : 함수를 호출할 때(사용할 때) 함수로 넘겨주는 자료\n",
        "\n",
        "def solve(a, b): # 여기서 a, b가 매개변수이다. 즉, 함수를 정의할 때 사용한 변수이다.\n",
        "    return a*b\n",
        "\n",
        "var1 = solve(3, 4) # 여기서 3과 4가 인자이다. 실제로 사용할 때 함수로 넘겨주는 값들을 말한다.\n",
        "var2 = solve(3, ['Cham'])\n",
        "\n",
        "print(var1, var2)"
      ],
      "execution_count": null,
      "outputs": [
        {
          "output_type": "stream",
          "name": "stdout",
          "text": [
            "12 ['Cham', 'Cham', 'Cham']\n"
          ]
        }
      ]
    },
    {
      "cell_type": "markdown",
      "metadata": {
        "id": "wXk8At_fKYWg"
      },
      "source": [
        "##**[기본교육과정] 데이터 분석을 위한 라이브러리**"
      ]
    },
    {
      "cell_type": "code",
      "metadata": {
        "id": "aPMO6JyTKp5B"
      },
      "source": [
        "# 모듈\n",
        "# 특정 목적을 가진 함수, 자료의 모임. 즉 누군가 만들어놓은 함수, 변수 등을 활용할 때 모듈을 불러오면 된다.\n",
        "# import로 모듈을 불러올 수 있다.\n",
        "\n",
        "# Dot notation (점 표기법)\n",
        "# 모듈.함수\n",
        "\n",
        "# py 확장자로 모듈 제작 가능\n",
        "\n",
        "'''-------------------------------------\n",
        "# cal.py\n",
        "def plus(a, b):\n",
        "  return a + b\n",
        "\n",
        "modelName = \"Cal\"\n",
        "-------------------------------------\n",
        "# main.py\n",
        "import cal\n",
        "print(cal.plus(3,4))\n",
        "print(cal.modelName)\n",
        "-------------------------------------'''\n",
        "\n",
        "# cal.py도 main.py도 다 모듈이다."
      ],
      "execution_count": null,
      "outputs": []
    },
    {
      "cell_type": "code",
      "metadata": {
        "id": "lgOTODgot_aV"
      },
      "source": [
        "# 패키지는 모듈을 폴더(Directory)로 구분하여 관리하는 것\n",
        "\n",
        "# import 폴더.모듈\n",
        "# print(모듈.함수())\n",
        "\n",
        "# from 폴더.모듈 import 함수\n",
        "# print(함수())\n",
        "# 이렇게 함수 이름만으로 실행하는 경우, Main.py와 모듈.py에서 동일한 함수 이름을 쓸 경우 충돌이 생길 수 있다."
      ],
      "execution_count": null,
      "outputs": []
    },
    {
      "cell_type": "code",
      "metadata": {
        "id": "Jbe9F2GyuzuQ"
      },
      "source": [
        "# urllib패키지 안 request 모듈에서 urlopen 함수를 불러옴\n",
        "from urllib.request import urlopen\n",
        "\n",
        "# 함수는 .으로 이어서 연속으로 사용할 수 있다. A().B().C()\n",
        "webpage = urlopen(\"https://en.wikipedia.org/wiki/Lorem_ipsum\").read().decode('utf-8')\n",
        "\n",
        "print(webpage)"
      ],
      "execution_count": null,
      "outputs": []
    }
  ]
}