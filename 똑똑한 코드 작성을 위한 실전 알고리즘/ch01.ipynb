{
 "cells": [
  {
   "cell_type": "markdown",
   "metadata": {},
   "source": [
    "# Chapter 01 문제해결"
   ]
  },
  {
   "cell_type": "markdown",
   "metadata": {},
   "source": [
    "1.1 알고리즘이란"
   ]
  },
  {
   "cell_type": "markdown",
   "metadata": {},
   "source": [
    "1.2 리스트에서 가장 큰 값 찾기"
   ]
  },
  {
   "cell_type": "code",
   "execution_count": null,
   "metadata": {},
   "outputs": [],
   "source": [
    "# code 1-1\n",
    "def flawed(A):\n",
    "    my_max = 0\n",
    "    for v in A:\n",
    "        if my_max < v:\n",
    "            my_max = v\n",
    "    return my_max"
   ]
  },
  {
   "cell_type": "markdown",
   "metadata": {},
   "source": [
    "위 구현은 A에 0보다 큰 수가 적어도 한 개 있다고 가정하므로 결함이 있는 코드다.\n",
    "my_max의 초기값을 float('-inf')처럼 가능한 가장 작은 값으로 할 수 있지만, 여전히 결함이 있다고 할 수 있다.\n",
    "\n",
    "tip\n",
    "list(range(1, 7))"
   ]
  },
  {
   "cell_type": "markdown",
   "metadata": {},
   "source": [
    "1.3 주요 연산 횟수 계산하기"
   ]
  },
  {
   "cell_type": "code",
   "execution_count": null,
   "metadata": {},
   "outputs": [],
   "source": [
    "# code 1-2\n",
    "def largest(A):\n",
    "    my_max = A[0]\n",
    "    for idx in range(1, len(A)):\n",
    "        if my_max < A[idx]:\n",
    "            my_max = A[idx]\n",
    "    return my_max"
   ]
  }
 ],
 "metadata": {
  "language_info": {
   "name": "python"
  },
  "orig_nbformat": 4
 },
 "nbformat": 4,
 "nbformat_minor": 2
}
