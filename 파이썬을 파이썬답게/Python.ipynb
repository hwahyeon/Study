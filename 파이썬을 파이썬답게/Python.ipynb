{
  "nbformat": 4,
  "nbformat_minor": 0,
  "metadata": {
    "colab": {
      "name": "Python.ipynb",
      "provenance": [],
      "collapsed_sections": [],
      "authorship_tag": "ABX9TyMAkxniebexjnL+JN6U1pXd",
      "include_colab_link": true
    },
    "kernelspec": {
      "name": "python3",
      "display_name": "Python 3"
    },
    "language_info": {
      "name": "python"
    }
  },
  "cells": [
    {
      "cell_type": "markdown",
      "metadata": {
        "id": "view-in-github",
        "colab_type": "text"
      },
      "source": [
        "<a href=\"https://colab.research.google.com/github/hwahyeon/Study/blob/main/%ED%8C%8C%EC%9D%B4%EC%8D%AC%EC%9D%84%20%ED%8C%8C%EC%9D%B4%EC%8D%AC%EB%8B%B5%EA%B2%8C/Python.ipynb\" target=\"_parent\"><img src=\"https://colab.research.google.com/assets/colab-badge.svg\" alt=\"Open In Colab\"/></a>"
      ]
    },
    {
      "cell_type": "markdown",
      "metadata": {
        "id": "yC4fOB3O1e6H"
      },
      "source": [
        "**파트1. Python 꿀팁**"
      ]
    },
    {
      "cell_type": "code",
      "metadata": {
        "id": "hiGDpFhd1V_6"
      },
      "source": [
        ""
      ],
      "execution_count": null,
      "outputs": []
    },
    {
      "cell_type": "markdown",
      "metadata": {
        "id": "MrdQE-mR1tuJ"
      },
      "source": [
        "**파트2. 정수 다루기**"
      ]
    },
    {
      "cell_type": "markdown",
      "metadata": {
        "id": "oSimF6fA1wT6"
      },
      "source": [
        "**파트3. Str 다루기**"
      ]
    },
    {
      "cell_type": "markdown",
      "metadata": {
        "id": "JvQM5-CD1x7O"
      },
      "source": [
        "**파트4. Iterable 다루기**"
      ]
    },
    {
      "cell_type": "markdown",
      "metadata": {
        "id": "VolkaVnm10Ak"
      },
      "source": [
        "**파트5. Sequence Types 다루기**"
      ]
    },
    {
      "cell_type": "markdown",
      "metadata": {
        "id": "POnhBpWP12h6"
      },
      "source": [
        "**파트6. Itertools / Collections 모듈**"
      ]
    },
    {
      "cell_type": "markdown",
      "metadata": {
        "id": "Lk1WcCYb15bW"
      },
      "source": [
        "**파트7. 기타**"
      ]
    }
  ]
}