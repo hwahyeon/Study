{
  "nbformat": 4,
  "nbformat_minor": 0,
  "metadata": {
    "colab": {
      "name": "[응용교육과정] 머신러닝 시작하기.ipynb",
      "provenance": [],
      "collapsed_sections": [],
      "mount_file_id": "1UXxquEqckpecIczkFV51g5gpO9tP5YId",
      "authorship_tag": "ABX9TyM2Vr4ULRPBcIH2ntb5n/3S",
      "include_colab_link": true
    },
    "kernelspec": {
      "name": "python3",
      "display_name": "Python 3"
    },
    "language_info": {
      "name": "python"
    }
  },
  "cells": [
    {
      "cell_type": "markdown",
      "metadata": {
        "id": "view-in-github",
        "colab_type": "text"
      },
      "source": [
        "<a href=\"https://colab.research.google.com/github/hwahyeon/Study/blob/main/2021%20AI%20%EC%8B%A4%EB%AC%B4%20%EC%9D%91%EC%9A%A9%20%EA%B3%BC%EC%A0%95/%5B%EC%9D%91%EC%9A%A9%EA%B5%90%EC%9C%A1%EA%B3%BC%EC%A0%95%5D%20%EB%A8%B8%EC%8B%A0%EB%9F%AC%EB%8B%9D%20%EC%8B%9C%EC%9E%91%ED%95%98%EA%B8%B0.ipynb\" target=\"_parent\"><img src=\"https://colab.research.google.com/assets/colab-badge.svg\" alt=\"Open In Colab\"/></a>"
      ]
    },
    {
      "cell_type": "markdown",
      "metadata": {
        "id": "Yfor9NeFv78W"
      },
      "source": [
        "## **01 자료 형태의 이해**\n"
      ]
    },
    {
      "cell_type": "markdown",
      "metadata": {
        "id": "4h2BYAkLSW8h"
      },
      "source": [
        "###**[실습1] 범주형 자료의 요약 - 도수분포표**\n",
        "\n",
        "범주형 자료를 요약하기 위해 도수분포표를 출력해보겠습니다.\n",
        "\n",
        "A, B, C, D, E 이 다섯 명의 술자리 참여 횟수가 기록된 데이터를 저장한 파일인 drink.csv 파일을 이용하여 누가 제일 술자리에 자주 나왔는지 value_counts() 함수로 계산한 도수로 확인해봅시다.\n",
        "\n",
        "Attend : 참석한 경우 1, 참석하지 않은 경우 0\n",
        "\n",
        "Name : 참석자의 이름\n",
        "\n",
        "**도수계산 함수**\n",
        "\n",
        "value_counts() 함수는 pandas Series의 도수를 구하여 출력하는 함수입니다. 아래와 코드를 사용하면 Name 열의 도수를 출력합니다.\n",
        "\n",
        "```\n",
        "drink['Name'].value_counts()\n",
        "```\n",
        "\n",
        "**지시사항**\n",
        "\n",
        "drink.csv에서 참석한 사람 중 이름에 따른 도수를 계산한 코드를 입력하여 drink_freq 에 저장해보세요.\n"
      ]
    },
    {
      "cell_type": "code",
      "metadata": {
        "id": "a73hn9eMSRyg",
        "colab": {
          "base_uri": "https://localhost:8080/"
        },
        "outputId": "522ed5ad-9a6e-4e8e-ec68-743f34d78b19"
      },
      "source": [
        "import pandas as pd \n",
        "import numpy as np\n",
        "\n",
        "# drink 데이터\n",
        "drink = pd.read_csv(\"/content/drive/MyDrive/211019 NIPA AI 온라인 교육/drink.csv\")\n",
        "\n",
        "#1. 도수 계산\n",
        "\n",
        "print(drink.head())\n",
        "print(drink.info())\n",
        "\n",
        "#이름 도수분포표\n",
        "#drink_freq = drink['Name'].value_counts()\n",
        "\n",
        "# 참석 0과 1로 표현\n",
        "#drink_freq = drink['Attend'].value_counts()\n",
        "\n",
        "# 참석한 사람들 이름으로 표시\n",
        "drink_freq = drink[drink['Attend']==1]['Name'].value_counts()\n",
        "\n",
        "print(\"도수분포표\")\n",
        "print(drink_freq)"
      ],
      "execution_count": null,
      "outputs": [
        {
          "output_type": "stream",
          "name": "stdout",
          "text": [
            "   Attend Name\n",
            "0       1    A\n",
            "1       0    A\n",
            "2       1    A\n",
            "3       1    A\n",
            "4       1    A\n",
            "<class 'pandas.core.frame.DataFrame'>\n",
            "RangeIndex: 25 entries, 0 to 24\n",
            "Data columns (total 2 columns):\n",
            " #   Column  Non-Null Count  Dtype \n",
            "---  ------  --------------  ----- \n",
            " 0   Attend  25 non-null     int64 \n",
            " 1   Name    25 non-null     object\n",
            "dtypes: int64(1), object(1)\n",
            "memory usage: 528.0+ bytes\n",
            "None\n",
            "도수분포표\n",
            "A    4\n",
            "B    3\n",
            "D    2\n",
            "C    2\n",
            "E    1\n",
            "Name: Name, dtype: int64\n"
          ]
        }
      ]
    },
    {
      "cell_type": "markdown",
      "metadata": {
        "id": "g72Wn0_KwQ6L"
      },
      "source": [
        "###**[실습2] 범주형 자료의 요약 - 막대 그래프**\n",
        "\n",
        "[실습1]에서 계산했던 술자리 참석 빈도의 도수를 한 눈에 보기 쉽도록 그래프를 그리겠습니다."
      ]
    },
    {
      "cell_type": "code",
      "metadata": {
        "colab": {
          "base_uri": "https://localhost:8080/",
          "height": 265
        },
        "id": "5YbgHJxdyHgE",
        "outputId": "e1096315-d5a8-4bde-b0ab-c2bae286d1b6"
      },
      "source": [
        "import matplotlib.pyplot as plt\n",
        "# 술자리 참석 상대도수 데이터 \n",
        "labels = ['A', 'B', 'C', 'D', 'E']\n",
        "ratio = [4,3,2,2,1]\n",
        "    \n",
        "#막대 그래프\n",
        "fig, ax = plt.subplots()\n",
        "\n",
        "\"\"\"\n",
        "1. 막대 그래프를 만드는 코드를 작성해 주세요\n",
        "\"\"\"\n",
        "plt.bar(labels,ratio)\n",
        "\n",
        "# 출력에 필요한 코드\n",
        "plt.show()"
      ],
      "execution_count": null,
      "outputs": [
        {
          "output_type": "display_data",
          "data": {
            "image/png": "[encoded data removed]",
            "text/plain": [
              "<Figure size 432x288 with 1 Axes>"
            ]
          },
          "metadata": {
            "needs_background": "light"
          }
        }
      ]
    },
    {
      "cell_type": "markdown",
      "metadata": {
        "id": "JedEGtRLwRCH"
      },
      "source": [
        "###**[실습3] 수치형 자료의 요약 - 평균**\n",
        "\n",
        "**지시사항**\n",
        "\n",
        "coffee에 저장된 카페인 함량 값들의 평균을 계산하여 cf_mean 에 저장해봅시다.\n",
        "\n",
        "np.mean 함수는 평균을 계산하여 리턴합니다. 입력으로 numpy array를 입력하여 계산할 수 있습니다."
      ]
    },
    {
      "cell_type": "markdown",
      "metadata": {
        "id": "u8nXsjfbYuGt"
      },
      "source": [
        "![image.png](data:image/png;base64,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)"
      ]
    },
    {
      "cell_type": "code",
      "metadata": {
        "colab": {
          "base_uri": "https://localhost:8080/"
        },
        "id": "Iy_ici0_1TSG",
        "outputId": "2a2c8d3e-4de5-484e-da06-b3c86e30139b"
      },
      "source": [
        "import numpy as np\n",
        "\n",
        "coffee = np.array([202,177,121,148,89,121,137,158])\n",
        "\n",
        "\"\"\"\n",
        "1. 평균계산\n",
        "\"\"\"\n",
        "cf_mean = np.mean(coffee)\n",
        "\n",
        "# 소수점 둘째 자리까지 반올림하여 출력합니다. \n",
        "print(\"Mean :\", round(cf_mean,2))"
      ],
      "execution_count": null,
      "outputs": [
        {
          "output_type": "stream",
          "name": "stdout",
          "text": [
            "Mean : 144.12\n"
          ]
        }
      ]
    },
    {
      "cell_type": "markdown",
      "metadata": {
        "id": "y6wgqyWwwRLV"
      },
      "source": [
        "###**[실습4] 수치형 자료의 요약 - 표준편차**\n",
        "\n",
        "**지시사항**\n",
        "\n",
        "coffee에 저장된 카페인 함량 값들의 표준편차를 계산해서 cf_std 에 저장해서 확인해봅시다.\n",
        "\n",
        "statistics의 stdev 함수는 표준편차를 계산하여 리턴합니다. 입력으로 numpy array를 입력하여 계산할 수 있습니다."
      ]
    },
    {
      "cell_type": "code",
      "metadata": {
        "colab": {
          "base_uri": "https://localhost:8080/"
        },
        "id": "JPHeYKno3ubr",
        "outputId": "47044961-06ac-4fb2-a933-fd9e882e88c6"
      },
      "source": [
        "from statistics import stdev, variance\n",
        "import numpy as np\n",
        "\n",
        "coffee = np.array([202,177,121,148,89,121,137,158])\n",
        "\n",
        "\"\"\"\n",
        "1. 표준편차 계산\n",
        "\"\"\"\n",
        "cf_std = stdev(coffee)\n",
        "\n",
        "# 분산\n",
        "# cf_std**2\n",
        "# cf_var = variance(coffee)\n",
        "\n",
        "# 소수점 둘째 자리까지 반올림하여 출력합니다. \n",
        "print(\"Sample std.Dev : \", round(cf_std,2))"
      ],
      "execution_count": null,
      "outputs": [
        {
          "output_type": "stream",
          "name": "stdout",
          "text": [
            "Sample std.Dev :  35.44\n"
          ]
        }
      ]
    },
    {
      "cell_type": "markdown",
      "metadata": {
        "id": "207IgaLlz-ih"
      },
      "source": [
        "###**[실습5] 수치형 자료의 요약 - 히스토그램**\n",
        "\n",
        "**지시사항**\n",
        "\n",
        "코드 입력창에 히스토그램을 그리는 코드를 입력해주세요.\n",
        "\n",
        "bins은 히스토그램을 구성하는 계급의 개수를 의미합니다. 다양한 값을 넣어서 출력되는 결과를 확인해보세요."
      ]
    },
    {
      "cell_type": "code",
      "metadata": {
        "colab": {
          "base_uri": "https://localhost:8080/",
          "height": 265
        },
        "id": "GKdvVW0x7NTk",
        "outputId": "8d6e36e0-ef70-4db3-acd2-76cdd277cb4c"
      },
      "source": [
        "import numpy as np\n",
        "import pandas as pd\n",
        "import matplotlib.pyplot as plt\n",
        "\n",
        "# 카페인 데이터\n",
        "coffee = np.array([202,177,121,148,89,121,137,158])\n",
        "\n",
        "fig, ax = plt.subplots()\n",
        "\n",
        "\"\"\"\n",
        "1. 히스토그램을 그리는 코드를 작성해 주세요\n",
        "\"\"\"\n",
        "# bins가 없으면 자동으로 나누어짐\n",
        "#plt.hist(coffee)\n",
        "\n",
        "plt.hist(coffee, bins = 10)\n",
        "\n",
        "# 히스토그램을 출력합니다.\n",
        "plt.show()"
      ],
      "execution_count": null,
      "outputs": [
        {
          "output_type": "display_data",
          "data": {
            "image/png": "[encoded data removed]",
            "text/plain": [
              "<Figure size 432x288 with 1 Axes>"
            ]
          },
          "metadata": {
            "needs_background": "light"
          }
        }
      ]
    },
    {
      "cell_type": "markdown",
      "metadata": {
        "id": "-fcwtUXLAx-f"
      },
      "source": [
        "## **02. 데이터 전 처리하기**"
      ]
    },
    {
      "cell_type": "markdown",
      "metadata": {
        "id": "UMTjlpY8BtZ0"
      },
      "source": [
        "###**[실습1] 명목형 자료 변환하기 - 수치 맵핑**\n",
        "\n",
        "titanic 데이터에서 범주형 자료인 성별(Sex) 데이터는 male, female 값을 가지고 있습니다. 이를 0, 1 인 수치형 자료로 변환해 봅시다."
      ]
    },
    {
      "cell_type": "code",
      "metadata": {
        "colab": {
          "base_uri": "https://localhost:8080/"
        },
        "id": "P3HCIOCBY3sH",
        "outputId": "7d90f375-2db3-4350-8804-f6be51630d1d"
      },
      "source": [
        "import pandas as pd\n",
        "\n",
        "# 데이터를 읽어옵니다.\n",
        "titanic = pd.read_csv(\"/content/drive/MyDrive/211019 NIPA AI 온라인 교육/titanic.csv\")\n",
        "print('변환 전: \\n',titanic['Sex'].head())\n",
        "\n",
        "\"\"\"\n",
        "1. replace를 사용하여 male -> 0, female -> 1로 변환합니다.\n",
        "\"\"\"\n",
        "titanic_ = titanic.replace({'male':0, 'female':1})\n",
        "\n",
        "# 변환한 성별 데이터를 출력합니다.\n",
        "print('\\n변환 후: \\n',titanic_['Sex'].head())"
      ],
      "execution_count": 22,
      "outputs": [
        {
          "output_type": "stream",
          "name": "stdout",
          "text": [
            "변환 전: \n",
            " 0      male\n",
            "1    female\n",
            "2    female\n",
            "3    female\n",
            "4      male\n",
            "Name: Sex, dtype: object\n",
            "\n",
            "변환 후: \n",
            " 0    0\n",
            "1    1\n",
            "2    1\n",
            "3    1\n",
            "4    0\n",
            "Name: Sex, dtype: int64\n"
          ]
        }
      ]
    },
    {
      "cell_type": "markdown",
      "metadata": {
        "id": "OdkqQD1MZwyI"
      },
      "source": [
        "###**[실습2] 명목형 자료 변환하기 - 더미 방식**\n",
        "\n",
        "titanic 데이터에서 범주형 자료인 Embarked 데이터는 S, Q, C 3가지 값을 가지고 있습니다. 이를 더미 방식을 사용하여 변환해봅시다."
      ]
    },
    {
      "cell_type": "code",
      "metadata": {
        "colab": {
          "base_uri": "https://localhost:8080/"
        },
        "id": "Nbq9hQcKZ0i8",
        "outputId": "c6425a5d-2c27-4c80-9769-a9bcda03f9a8"
      },
      "source": [
        "import pandas as pd\n",
        "   \n",
        "# 데이터를 읽어옵니다.\n",
        "titanic = pd.read_csv(\"/content/drive/MyDrive/211019 NIPA AI 온라인 교육/titanic.csv\")\n",
        "print('변환 전: \\n',titanic['Embarked'].head())\n",
        "\n",
        "\"\"\"\n",
        "1. get_dummies를 사용하여 변환합니다.\n",
        "\"\"\"\n",
        "dummies = pd.get_dummies(titanic[['Embarked']])\n",
        "\n",
        "# 변환한 Embarked 데이터를 출력합니다.\n",
        "print('\\n변환 후: \\n',dummies.head())"
      ],
      "execution_count": 23,
      "outputs": [
        {
          "output_type": "stream",
          "name": "stdout",
          "text": [
            "변환 전: \n",
            " 0    S\n",
            "1    C\n",
            "2    S\n",
            "3    S\n",
            "4    S\n",
            "Name: Embarked, dtype: object\n",
            "\n",
            "변환 후: \n",
            "    Embarked_C  Embarked_Q  Embarked_S\n",
            "0           0           0           1\n",
            "1           1           0           0\n",
            "2           0           0           1\n",
            "3           0           0           1\n",
            "4           0           0           1\n"
          ]
        }
      ]
    },
    {
      "cell_type": "markdown",
      "metadata": {
        "id": "0DfumF-ocyCC"
      },
      "source": [
        "###**[실습2] 명목형 자료 변환하기 - 더미 방식**"
      ]
    },
    {
      "cell_type": "markdown",
      "metadata": {
        "id": "L9iWirc_wWAD"
      },
      "source": [
        "\n",
        "## **03. 지도학습 - 회귀**\n",
        "## **04. 지도학습 - 분류**"
      ]
    }
  ]
}
