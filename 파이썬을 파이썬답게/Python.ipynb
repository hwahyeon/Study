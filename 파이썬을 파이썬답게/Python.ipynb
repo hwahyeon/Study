{
  "nbformat": 4,
  "nbformat_minor": 0,
  "metadata": {
    "colab": {
      "name": "Python.ipynb",
      "provenance": [],
      "collapsed_sections": [],
      "authorship_tag": "ABX9TyNSWJNKpKdpOlck3xSU3N4x",
      "include_colab_link": true
    },
    "kernelspec": {
      "name": "python3",
      "display_name": "Python 3"
    },
    "language_info": {
      "name": "python"
    }
  },
  "cells": [
    {
      "cell_type": "markdown",
      "metadata": {
        "id": "view-in-github",
        "colab_type": "text"
      },
      "source": [
        "<a href=\"https://colab.research.google.com/github/hwahyeon/Study/blob/main/%ED%8C%8C%EC%9D%B4%EC%8D%AC%EC%9D%84%20%ED%8C%8C%EC%9D%B4%EC%8D%AC%EB%8B%B5%EA%B2%8C/Python.ipynb\" target=\"_parent\"><img src=\"https://colab.research.google.com/assets/colab-badge.svg\" alt=\"Open In Colab\"/></a>"
      ]
    },
    {
      "cell_type": "markdown",
      "metadata": {
        "id": "aEXCjfGHmhQa"
      },
      "source": [
        "'파이썬을 파이썬답게' 강좌를 수강하고 공부한 내용을 정리한 노트임."
      ]
    },
    {
      "cell_type": "markdown",
      "metadata": {
        "id": "yC4fOB3O1e6H"
      },
      "source": [
        "##**파트1. Python 꿀팁**"
      ]
    },
    {
      "cell_type": "markdown",
      "metadata": {
        "id": "nct0kDMq4Fdz"
      },
      "source": [
        "###**수강 전에 이 문제를 풀어보세요.**\n",
        "\n",
        "정수를 담은 이차원 리스트, mylist 가 solution 함수의 파라미터로 주어집니다. mylist에 들은 각 원소의 길이를 담은 리스트를 리턴하도록 solution 함수를 작성해주세요."
      ]
    },
    {
      "cell_type": "code",
      "metadata": {
        "colab": {
          "base_uri": "https://localhost:8080/"
        },
        "id": "AC-mwx5t3c1a",
        "outputId": "d125b1b2-1448-4bea-dae8-ed451e90f984"
      },
      "source": [
        "# Before\n",
        "def solution(mylist):\n",
        "    res_ = []\n",
        "    for i in mylist:\n",
        "        res_.append(len(i))\n",
        "    return res_\n",
        "\n",
        "solution([[1, 2], [3, 4], [5]])"
      ],
      "execution_count": null,
      "outputs": [
        {
          "output_type": "execute_result",
          "data": {
            "text/plain": [
              "[2, 2, 1]"
            ]
          },
          "metadata": {},
          "execution_count": 4
        }
      ]
    },
    {
      "cell_type": "code",
      "metadata": {
        "colab": {
          "base_uri": "https://localhost:8080/"
        },
        "id": "41zq43923lNo",
        "outputId": "2af74739-9286-4866-b628-20a98b656ff0"
      },
      "source": [
        "# After\n",
        "def solution(mylist):\n",
        "    return list(map(len, mylist))\n",
        "\n",
        "solution([[1, 2], [3, 4], [5]])"
      ],
      "execution_count": null,
      "outputs": [
        {
          "output_type": "execute_result",
          "data": {
            "text/plain": [
              "[1, 1]"
            ]
          },
          "metadata": {},
          "execution_count": 3
        }
      ]
    },
    {
      "cell_type": "markdown",
      "metadata": {
        "id": "J138aXbV4Uap"
      },
      "source": [
        "*   iterable: 자신의 멤버를 한 번에 하나씩 리턴할 수 있는 객체입니다. list, str, tuple, dict 등이 여기에 속합니다.\n",
        "\n",
        "*   sequence: int 타입 인덱스를 통해, 원소에 접근할 수 있는 iterable 입니다. iterable의 하위 카테고리라고 생각하시면 됩니다. list, str, tuple이 여기 속합니다. ( dictionary는 다양한 타입을 통해 원소에 접근할 수 있기 때문에 sequence에 속하지 않습니다."
      ]
    },
    {
      "cell_type": "markdown",
      "metadata": {
        "id": "MrdQE-mR1tuJ"
      },
      "source": [
        "##**파트2. 정수 다루기**"
      ]
    },
    {
      "cell_type": "markdown",
      "metadata": {
        "id": "kkALckL24ofg"
      },
      "source": [
        "###**몫과 나머지 - divmod**\n",
        "\n",
        "###문제 설명\n",
        "숫자 a, b가 주어졌을 때 a를 b로 나눈 몫과 a를 b로 나눈 나머지를 공백으로 구분해 출력해보세요.\n",
        "\n",
        "###입력 설명\n",
        "입력으로는 공백으로 구분된 숫자가 두 개 주어집니다.\n",
        "첫 번째 숫자는 a를 나타내며, 두 번째 숫자는 b를 나타냅니다.\n",
        "\n",
        "###출력 설명\n",
        "a를 b로 나눈 몫과 a를 b로 나눈 나머지를 공백으로 구분해 출력하세요.\n",
        "\n",
        "###제한 조건\n",
        "a와 b는 자연수입니다."
      ]
    },
    {
      "cell_type": "code",
      "metadata": {
        "colab": {
          "base_uri": "https://localhost:8080/"
        },
        "id": "3r9Pcmcd4nVv",
        "outputId": "22c6cd08-47ea-4c64-a6d8-74c94423329c"
      },
      "source": [
        "# Before\n",
        "a, b = map(int, input().strip().split(' '))\n",
        "print((a//b), (a%b))\n",
        "\n",
        "# input 5 3 / output 1 2"
      ],
      "execution_count": null,
      "outputs": [
        {
          "output_type": "stream",
          "text": [
            "5 3\n",
            "1 2\n"
          ],
          "name": "stdout"
        }
      ]
    },
    {
      "cell_type": "code",
      "metadata": {
        "colab": {
          "base_uri": "https://localhost:8080/"
        },
        "id": "qNxWISk449py",
        "outputId": "827302f8-40f7-453c-f8ca-c52fecce3677"
      },
      "source": [
        "# After\n",
        "a = 5\n",
        "b = 3\n",
        "print(*divmod(a, b))"
      ],
      "execution_count": null,
      "outputs": [
        {
          "output_type": "stream",
          "text": [
            "1 2\n"
          ],
          "name": "stdout"
        }
      ]
    },
    {
      "cell_type": "markdown",
      "metadata": {
        "id": "TIctm1fq5mZE"
      },
      "source": [
        "divmod는 작은 숫자를 다룰 때 a//b, a%b 보다 느립니다. 대신, 큰 숫자를 다룰 때는 전자가 후자보다 더 빠르지요."
      ]
    },
    {
      "cell_type": "markdown",
      "metadata": {
        "id": "Pn8_Ow7_5ryj"
      },
      "source": [
        "###**n진법으로 표기된 string을 10진법 숫자로 변환하기 - int 함수**\n",
        "\n",
        "###문제 설명\n",
        "base 진법으로 표기된 숫자를 10진법 숫자 출력해보세요.\n",
        "\n",
        "###입력 설명\n",
        "입력으로는 공백으로 구분된 숫자가 두 개 주어집니다.\n",
        "첫 번째 숫자는 num을 나타내며, 두 번째 숫자는 base를 나타냅니다.\n",
        "\n",
        "###출력 설명\n",
        "base 진법으로 표기된 num을 10진법 숫자로 출력해보세요.\n",
        "\n",
        "###제한 조건\n",
        "base는 10 이하인 자연수입니다.\n",
        "num은 3000 이하인 자연수입니다."
      ]
    },
    {
      "cell_type": "code",
      "metadata": {
        "colab": {
          "base_uri": "https://localhost:8080/"
        },
        "id": "4oP0GCPu52Sj",
        "outputId": "709735b6-8769-4c2a-a131-54a680d610e2"
      },
      "source": [
        "num, base = map(int, input().strip().split(' '))\n",
        "print(int(str(num), base))\n",
        "\n",
        "# input 12 3 / output 5"
      ],
      "execution_count": null,
      "outputs": [
        {
          "output_type": "stream",
          "text": [
            "12 3\n",
            "5\n"
          ],
          "name": "stdout"
        }
      ]
    },
    {
      "cell_type": "markdown",
      "metadata": {
        "id": "R0gok2ZZ6Mqs"
      },
      "source": [
        "파이썬의 int(x, base=10) 함수는 진법 변환을 지원합니다.\n",
        "\n",
        "int 함수의 첫번째 파라미터는 문자열 또는 숫자 형식이어야 합니다.\n",
        "단, 두번쨰 파라미터를 입력하려는 경우에는 첫번째 파라미터는 문자열 형식이어야해요.\n",
        "\n",
        "### 가능\n",
        "int(99)\n",
        "int(99.9)\n",
        "int('99')\n",
        "int('99', 11)\n",
        "\n",
        "### 불가능\n",
        "int(99, 11)\n",
        "\n",
        "int() 함수의 2번째 인자인 base는 정수형이어야합니다.\n",
        "\n",
        "if base is given, then x must be a string, bytes, or bytearray instance representing an integer literal in radix base\n",
        "\n",
        "base를 명시했다면 x는 string, bytes, bytearray 형식이어야합니다.\n"
      ]
    },
    {
      "cell_type": "markdown",
      "metadata": {
        "id": "oSimF6fA1wT6"
      },
      "source": [
        "##**파트3. Str 다루기**"
      ]
    },
    {
      "cell_type": "markdown",
      "metadata": {
        "id": "JhkfH2dW6z36"
      },
      "source": [
        "###**문자열 정렬하기 - ljust, center, rjust**\n",
        "\n",
        "###문제 설명\n",
        "문자열 s와 자연수 n이 입력으로 주어집니다. 문자열 s를 좌측 / 가운데 / 우측 정렬한 길이 n인 문자열을 한 줄씩 프린트해보세요."
      ]
    },
    {
      "cell_type": "code",
      "metadata": {
        "colab": {
          "base_uri": "https://localhost:8080/"
        },
        "id": "6eu0cxyE68f7",
        "outputId": "19944749-6025-477f-a588-3378643cfa0d"
      },
      "source": [
        "s, n = input().strip().split(' ')\n",
        "n = int(n)\n",
        "print(s.ljust(n))\n",
        "print(s.center(n))\n",
        "print(s.rjust(n))\n",
        "\n",
        "#input abc 7"
      ],
      "execution_count": null,
      "outputs": [
        {
          "output_type": "stream",
          "text": [
            "abc 7\n",
            "abc    \n",
            "  abc  \n",
            "    abc\n"
          ],
          "name": "stdout"
        }
      ]
    },
    {
      "cell_type": "markdown",
      "metadata": {
        "id": "TkOuFM0k7IEC"
      },
      "source": [
        "파이썬에서는 ljust, center, rjust와 같은 string의 메소드를 사용해 코드를 획기적으로 줄일 수 있습니다."
      ]
    },
    {
      "cell_type": "markdown",
      "metadata": {
        "id": "aWiEkJA37NLj"
      },
      "source": [
        "###**알파벳 출력하기**\n",
        "###문제 설명\n",
        "입력으로 0이 주어지면 영문 소문자 알파벳을, 입력으로 1이 주어지면 영문 대문자 알파벳을 사전 순으로 출력하는 코드를 짜세요."
      ]
    },
    {
      "cell_type": "code",
      "metadata": {
        "colab": {
          "base_uri": "https://localhost:8080/"
        },
        "id": "6681JSb_7TgS",
        "outputId": "da7ff67e-dc74-40eb-8d8d-2d844450c1ee"
      },
      "source": [
        "import string \n",
        "\n",
        "num = int(input().strip())\n",
        "if num == 0:\n",
        "    print(string.ascii_lowercase)\n",
        "else:\n",
        "    print(string.ascii_uppercase)\n",
        "\n",
        "# input 0 or 1"
      ],
      "execution_count": null,
      "outputs": [
        {
          "output_type": "stream",
          "text": [
            "0\n",
            "abcdefghijklmnopqrstuvwxyz\n"
          ],
          "name": "stdout"
        }
      ]
    },
    {
      "cell_type": "code",
      "metadata": {
        "id": "QXOFnpqa7gQS"
      },
      "source": [
        "# 파이썬은 이런 데이터를 상수(constants)로 정의해놓았습니다.\n",
        "import string \n",
        "\n",
        "string.ascii_lowercase # 소문자 abcdefghijklmnopqrstuvwxyz\n",
        "string.ascii_uppercase # 대문자 ABCDEFGHIJKLMNOPQRSTUVWXYZ\n",
        "string.ascii_letters # 대소문자 모두 abcdefghijklmnopqrstuvwxyzABCDEFGHIJKLMNOPQRSTUVWXYZ\n",
        "string.digits # 숫자 0123456789"
      ],
      "execution_count": null,
      "outputs": []
    },
    {
      "cell_type": "markdown",
      "metadata": {
        "id": "JvQM5-CD1x7O"
      },
      "source": [
        "##**파트4. Iterable 다루기**"
      ]
    },
    {
      "cell_type": "markdown",
      "metadata": {
        "id": "Vh_Dd19F7nOL"
      },
      "source": [
        "###**원본을 유지한채, 정렬된 리스트 구하기 - sorted**\n",
        "파이썬의 sort() 함수를 사용하면 리스트의 원소를 정렬할 수 있습니다. 이때, sort 함수는 원본의 멤버 순서를 변경하지요."
      ]
    },
    {
      "cell_type": "code",
      "metadata": {
        "colab": {
          "base_uri": "https://localhost:8080/"
        },
        "id": "avQl5Gvh71Qp",
        "outputId": "b9d43380-7c02-419b-9013-7123353341fa"
      },
      "source": [
        "list1 = [4, 5, 6, 3, 2, 1, 7]\n",
        "list2 = sorted(list1)\n",
        "print(list2)"
      ],
      "execution_count": null,
      "outputs": [
        {
          "output_type": "stream",
          "text": [
            "[1, 2, 3, 4, 5, 6, 7]\n"
          ],
          "name": "stdout"
        }
      ]
    },
    {
      "cell_type": "markdown",
      "metadata": {
        "id": "I6ewYTn17lTN"
      },
      "source": [
        "###**2차원 리스트 뒤집기**\n",
        "\n",
        "다음을 만족하는 함수, solution을 완성해주세요.\n",
        "\n",
        "solution 함수는 이차원 리스트, mylist를 인자로 받습니다\n",
        "solution 함수는 mylist 원소의 행과 열을 뒤집은 한 값을 리턴해야합니다.\n",
        "예를 들어 mylist [[1, 2, 3], [4, 5, 6], [7, 8, 9]]가 주어진 경우, solution 함수는 [[1, 4, 7], [2, 5, 8], [3, 6, 9]] 을 리턴하면 됩니다."
      ]
    },
    {
      "cell_type": "code",
      "metadata": {
        "colab": {
          "base_uri": "https://localhost:8080/"
        },
        "id": "4EkhYAIw_yRB",
        "outputId": "90c52bf9-c813-4186-95dc-defdd34378ee"
      },
      "source": [
        "def solution(mylist):\n",
        "    return list(map(list, zip(*mylist)))\n",
        "\n",
        "solution([[0, 3, 1, 2], [1, 1, 3, 4], [0, 3, 1, 3], [3, 0, 3, 1]])"
      ],
      "execution_count": null,
      "outputs": [
        {
          "output_type": "execute_result",
          "data": {
            "text/plain": [
              "[[0, 1, 0, 3], [3, 1, 3, 0], [1, 3, 1, 3], [2, 4, 3, 1]]"
            ]
          },
          "metadata": {},
          "execution_count": 16
        }
      ]
    },
    {
      "cell_type": "markdown",
      "metadata": {
        "id": "OMng3kKf_6WO"
      },
      "source": [
        "zip(*iterables)는 각 iterables 의 요소들을 모으는 이터레이터를 만듭니다.\n",
        "튜플의 이터레이터를 돌려주는데, i 번째 튜플은 각 인자로 전달된 시퀀스나 이터러블의 i 번째 요소를 포함합니다."
      ]
    },
    {
      "cell_type": "code",
      "metadata": {
        "colab": {
          "base_uri": "https://localhost:8080/"
        },
        "id": "hDFJLmZWBHwq",
        "outputId": "db888615-60bf-4b61-9853-a207d9a867f9"
      },
      "source": [
        "# ex1\n",
        "mylist = [1, 2, 3]\n",
        "new_list = [40, 50, 60]\n",
        "for i in zip(mylist, new_list):\n",
        "    print (i)"
      ],
      "execution_count": null,
      "outputs": [
        {
          "output_type": "stream",
          "text": [
            "(1, 40)\n",
            "(2, 50)\n",
            "(3, 60)\n"
          ],
          "name": "stdout"
        }
      ]
    },
    {
      "cell_type": "code",
      "metadata": {
        "colab": {
          "base_uri": "https://localhost:8080/"
        },
        "id": "jIf-JPpCBKN1",
        "outputId": "72d66825-92f9-4fa6-a22a-db83acc70ddf"
      },
      "source": [
        "# ex2\n",
        "list1 = [1, 2, 3, 4]\n",
        "list2 = [100, 120, 30, 300]\n",
        "list3 = [392, 2, 33, 1]\n",
        "answer = []\n",
        "for number1, number2, number3 in zip(list1, list2, list3):\n",
        "   print(number1 + number2 + number3)"
      ],
      "execution_count": null,
      "outputs": [
        {
          "output_type": "stream",
          "text": [
            "493\n",
            "124\n",
            "66\n",
            "305\n"
          ],
          "name": "stdout"
        }
      ]
    },
    {
      "cell_type": "code",
      "metadata": {
        "colab": {
          "base_uri": "https://localhost:8080/"
        },
        "id": "jxjYNSsOBOT9",
        "outputId": "83b52d3a-3080-45c4-aad0-9a5f0081680d"
      },
      "source": [
        "# ex 3 Key 리스트와 Value 리스트로 딕셔너리 생성하기\n",
        "animals = ['cat', 'dog', 'lion']\n",
        "sounds = ['meow', 'woof', 'roar']\n",
        "answer = dict(zip(animals, sounds)) # {'cat': 'meow', 'dog': 'woof', 'lion': 'roar'}\n",
        "print(answer)"
      ],
      "execution_count": null,
      "outputs": [
        {
          "output_type": "stream",
          "text": [
            "{'cat': 'meow', 'dog': 'woof', 'lion': 'roar'}\n"
          ],
          "name": "stdout"
        }
      ]
    },
    {
      "cell_type": "markdown",
      "metadata": {
        "id": "oZEbJkTXDE8I"
      },
      "source": [
        "###**i번째 원소와 i+1번째 원소**\n",
        "숫자를 담은 리스트 mylist가 solution 함수의 파라미터로 주어집니다. solution 함수가 mylist의 i번째 원소와 i+1번째 원소의 차를 담은 일차원 리스트에 차례로 담아 리턴하도록 코드를 작성해주세요.\n",
        "\n",
        "단, 마지막에 있는 원소는 (마지막+1)번째의 원소와의 차를 구할 수 없으니, 이 값은 구하지 않습니다."
      ]
    },
    {
      "cell_type": "code",
      "metadata": {
        "colab": {
          "base_uri": "https://localhost:8080/"
        },
        "id": "8fk03KzgDJq7",
        "outputId": "43a82ba6-7e7a-46ea-b6ce-2f4533a94d56"
      },
      "source": [
        "def solution(mylist):\n",
        "    ans = []\n",
        "    for num1, num2 in zip(mylist, mylist[1:]):\n",
        "        ans.append(abs(num1 - num2))\n",
        "    return ans\n",
        "\n",
        "if __name__ == '__main__':\n",
        "    mylist = [83, 48, 13, 4, 71, 11]    \n",
        "    print(solution(mylist))"
      ],
      "execution_count": null,
      "outputs": [
        {
          "output_type": "stream",
          "text": [
            "[35, 35, 9, 67, 60]\n"
          ],
          "name": "stdout"
        }
      ]
    },
    {
      "cell_type": "markdown",
      "metadata": {
        "id": "ayg_FNv0DOrl"
      },
      "source": [
        "파이썬의 zip을 이용하면 index를 사용하지 않고 각 원소에 접근할 수 있습니다.\n",
        "\n",
        "zip 함수에 서로 길이가 다른 리스트가 인자로 들어오는 경우에는 길이가 짧은 쪽 까지만 이터레이션이 이루어집니다. \n",
        "\n",
        "파이썬을 만드는 사람들이 기능을 만들 때에는 최적화를 해놓기 때문에 통상적으로 같은 일을 하는 코드는 built in 기능을 사용했을 때가 더 빠릅니다.\n"
      ]
    },
    {
      "cell_type": "markdown",
      "metadata": {
        "id": "7xvwg0tvErhA"
      },
      "source": [
        "###**모든 멤버의 type 변환하기**\n",
        "문자열 리스트 mylist를 입력받아, 이 리스트를 정수형 리스트로 바꾼 값을 리턴하는 함수, solution을 만들어주세요. 예를 들어 mylist가 ['1', '100', '33'] 인 경우, solution 함수는 [1, 100, 33] 을 리턴하면 됩니다."
      ]
    },
    {
      "cell_type": "code",
      "metadata": {
        "colab": {
          "base_uri": "https://localhost:8080/"
        },
        "id": "V9boDudYEvIW",
        "outputId": "a8780341-245c-4fa2-bd9b-d2e3b4137c65"
      },
      "source": [
        "def solution(mylist):\n",
        "    return list(map(int, mylist))\n",
        "\n",
        "if __name__ == '__main__':\n",
        "    mylist = ['1', '100', '33']\n",
        "    print(solution(mylist))"
      ],
      "execution_count": null,
      "outputs": [
        {
          "output_type": "stream",
          "text": [
            "[1, 100, 33]\n"
          ],
          "name": "stdout"
        }
      ]
    },
    {
      "cell_type": "markdown",
      "metadata": {
        "id": "VolkaVnm10Ak"
      },
      "source": [
        "##**파트5. Sequence Types 다루기**"
      ]
    },
    {
      "cell_type": "markdown",
      "metadata": {
        "id": "wivynrNjayZA"
      },
      "source": [
        "###**리스트 이어서 붙이기**"
      ]
    },
    {
      "cell_type": "code",
      "metadata": {
        "id": "jEkFPXF0aVBx"
      },
      "source": [
        "def solution(mylist):\n",
        "    return ''.join(mylist)"
      ],
      "execution_count": null,
      "outputs": []
    },
    {
      "cell_type": "markdown",
      "metadata": {
        "id": "8mnvmAEGa1g6"
      },
      "source": [
        "###**삼각형 별찍기**"
      ]
    },
    {
      "cell_type": "code",
      "metadata": {
        "id": "1kzvLIsvaxIX"
      },
      "source": [
        "n = int(input().strip())\n",
        "for i in range(n):\n",
        "    print('*'*(i+1))"
      ],
      "execution_count": null,
      "outputs": []
    },
    {
      "cell_type": "code",
      "metadata": {
        "id": "5uU6Viq9a1Rz"
      },
      "source": [
        "n = 3\n",
        "answer= [123, 456] * n\n",
        "\n",
        "#리스트 반복도 곱하기로 가능"
      ],
      "execution_count": null,
      "outputs": []
    },
    {
      "cell_type": "markdown",
      "metadata": {
        "id": "POnhBpWP12h6"
      },
      "source": [
        "##**파트6. Itertools / Collections 모듈**"
      ]
    },
    {
      "cell_type": "markdown",
      "metadata": {
        "id": "3J7yn_lBbafo"
      },
      "source": [
        "###**곱집합(Cartesian product) 구하기 - product**\n",
        "\n",
        "이번 강의에서는 iterable으로 곱집합을 구하는 방법을 알아봅니다.\n",
        "\n",
        "\n",
        "예시) 두 스트링 'ABCD', 'xy' 의 곱집합은 Ax Ay Bx By Cx Cy Dx Dy 입니다.\n"
      ]
    },
    {
      "cell_type": "code",
      "metadata": {
        "colab": {
          "base_uri": "https://localhost:8080/"
        },
        "id": "Zl3CLYq7bhc0",
        "outputId": "d665e4f5-0e1a-406f-eefa-1d84067123a1"
      },
      "source": [
        "# Before\n",
        "\n",
        "iterable1 = 'ABCD'\n",
        "iterable2 = 'xy'\n",
        "iterable3 = '1234'\n",
        "\n",
        "for value1 in iterable1:\n",
        "    for value2 in iterable2:\n",
        "        for value3 in iterable3:\n",
        "            print(value1, value2, value3)"
      ],
      "execution_count": null,
      "outputs": [
        {
          "output_type": "stream",
          "name": "stdout",
          "text": [
            "A x 1\n",
            "A x 2\n",
            "A x 3\n",
            "A x 4\n",
            "A y 1\n",
            "A y 2\n",
            "A y 3\n",
            "A y 4\n",
            "B x 1\n",
            "B x 2\n",
            "B x 3\n",
            "B x 4\n",
            "B y 1\n",
            "B y 2\n",
            "B y 3\n",
            "B y 4\n",
            "C x 1\n",
            "C x 2\n",
            "C x 3\n",
            "C x 4\n",
            "C y 1\n",
            "C y 2\n",
            "C y 3\n",
            "C y 4\n",
            "D x 1\n",
            "D x 2\n",
            "D x 3\n",
            "D x 4\n",
            "D y 1\n",
            "D y 2\n",
            "D y 3\n",
            "D y 4\n"
          ]
        }
      ]
    },
    {
      "cell_type": "code",
      "metadata": {
        "colab": {
          "base_uri": "https://localhost:8080/"
        },
        "id": "ZT8_bXN7bk2K",
        "outputId": "b58468f2-3cfb-4a0f-a210-4749c4703e52"
      },
      "source": [
        "# After // itertools.product를 이용하면, for 문을 사용하지 않고도 곱집합을 구할 수 있습니다.\n",
        "import itertools\n",
        "\n",
        "iterable1 = 'ABCD'\n",
        "iterable2 = 'xy'\n",
        "iterable3 = '1234'\n",
        "print(list(itertools.product(iterable1, iterable2, iterable3)))"
      ],
      "execution_count": null,
      "outputs": [
        {
          "output_type": "stream",
          "name": "stdout",
          "text": [
            "[('A', 'x', '1'), ('A', 'x', '2'), ('A', 'x', '3'), ('A', 'x', '4'), ('A', 'y', '1'), ('A', 'y', '2'), ('A', 'y', '3'), ('A', 'y', '4'), ('B', 'x', '1'), ('B', 'x', '2'), ('B', 'x', '3'), ('B', 'x', '4'), ('B', 'y', '1'), ('B', 'y', '2'), ('B', 'y', '3'), ('B', 'y', '4'), ('C', 'x', '1'), ('C', 'x', '2'), ('C', 'x', '3'), ('C', 'x', '4'), ('C', 'y', '1'), ('C', 'y', '2'), ('C', 'y', '3'), ('C', 'y', '4'), ('D', 'x', '1'), ('D', 'x', '2'), ('D', 'x', '3'), ('D', 'x', '4'), ('D', 'y', '1'), ('D', 'y', '2'), ('D', 'y', '3'), ('D', 'y', '4')]\n"
          ]
        }
      ]
    },
    {
      "cell_type": "markdown",
      "metadata": {
        "id": "la_LtGJXb_Hi"
      },
      "source": [
        "product는 str형이 아닌 tuple 형으로 cartesian product를 한다. product는 들어온 iterable을 하나하나, 차례로 순회한 짝을 리턴하는 함수이지 그 짝을 붙여주는 함수는 아니다."
      ]
    },
    {
      "cell_type": "code",
      "metadata": {
        "colab": {
          "base_uri": "https://localhost:8080/"
        },
        "id": "xlW4crSNcXRh",
        "outputId": "a192c865-7fd6-44f7-c9ff-108c51c6de2b"
      },
      "source": [
        "iterable1 = [1,2,3,4]\n",
        "iterable2 = [3,4,5,6]\n",
        "print(*(itertools.product(iterable1, iterable2)))"
      ],
      "execution_count": null,
      "outputs": [
        {
          "output_type": "stream",
          "name": "stdout",
          "text": [
            "(1, 3) (1, 4) (1, 5) (1, 6) (2, 3) (2, 4) (2, 5) (2, 6) (3, 3) (3, 4) (3, 5) (3, 6) (4, 3) (4, 4) (4, 5) (4, 6)\n"
          ]
        }
      ]
    },
    {
      "cell_type": "code",
      "metadata": {
        "colab": {
          "base_uri": "https://localhost:8080/"
        },
        "id": "oHtpn0DDcYww",
        "outputId": "5799f327-5b58-4d5c-c264-fb36d323820c"
      },
      "source": [
        "iterable1 = 'ABCD'\n",
        "iterable2 = 'xy'\n",
        "[ ''.join(i) for i in itertools.product(iterable1, iterable2) ]"
      ],
      "execution_count": null,
      "outputs": [
        {
          "output_type": "execute_result",
          "data": {
            "text/plain": [
              "['Ax', 'Ay', 'Bx', 'By', 'Cx', 'Cy', 'Dx', 'Dy']"
            ]
          },
          "metadata": {},
          "execution_count": 4
        }
      ]
    },
    {
      "cell_type": "markdown",
      "metadata": {
        "id": "gbqOF7Kvcbb6"
      },
      "source": [
        "python document - itertools.product에 따르면,\n",
        "product(A, B)는 ((x,y) for x in A for y in B) 형태를 만든다고 한다."
      ]
    },
    {
      "cell_type": "markdown",
      "metadata": {
        "id": "WTiXem5Fc5vd"
      },
      "source": [
        "### **2차원 리스트를 1차원 리스트로 만들기**\n",
        "문자열을 담은 이차원 리스트, mylist 가 solution 함수의 파라미터로 주어집니다. solution 함수가 mylist를 일차원 리스트로 만들어 리턴하도록 코드를 작성해주세요."
      ]
    },
    {
      "cell_type": "code",
      "metadata": {
        "id": "NE8Te3u9c_jC"
      },
      "source": [
        "def solution(mylist):\n",
        "    return sum(mylist, [])"
      ],
      "execution_count": null,
      "outputs": []
    },
    {
      "cell_type": "code",
      "metadata": {
        "id": "BJ0n8gRpecUo"
      },
      "source": [
        "my_list = [[1, 2], [3, 4], [5, 6]]\n",
        "\n",
        "# 방법 1 - sum 함수\n",
        "answer = sum(my_list, [])\n",
        "\n",
        "# 방법 2 - itertools.chain\n",
        "import itertools\n",
        "list(itertools.chain.from_iterable(my_list))\n",
        "\n",
        "# 방법 3 - itertools와 unpacking\n",
        "import itertools\n",
        "list(itertools.chain(*my_list))\n",
        "\n",
        "# 방법 4 - list comprehension 이용\n",
        "[element for array in my_list for element in array]\n",
        "\n",
        "# 방법 5 - reduce 함수 이용 1\n",
        "from functools import reduce\n",
        "list(reduce(lambda x, y: x+y, my_list))\n",
        "\n",
        "# 방법 6 - reduce 함수 이용 2\n",
        "from functools import reduce\n",
        "import operator\n",
        "list(reduce(operator.add, my_list))\n",
        "\n",
        "# 제한적인 방법 (각 원소의 길이가 동일한 경우에만 사용 가능)\n",
        "# 방법 7 - numpy 라이브러리의 flatten 이용\n",
        "import numpy as np\n",
        "np.array(my_list).flatten().tolist()"
      ],
      "execution_count": null,
      "outputs": []
    },
    {
      "cell_type": "markdown",
      "metadata": {
        "id": "EOwgsNy_fefc"
      },
      "source": [
        "sum(iterable[, start])\n",
        "\n",
        "start 및 iterable 의 항목들을 왼쪽에서 오른쪽으로 합하고 합계를 돌려줍니다. start 의 기본값은 0 입니다. iterable 의 항목은 일반적으로 숫자며 시작 값은 문자열이 될 수 없습니다.\n",
        "\n",
        "즉, sum([1,2,3])을 호출하면\n",
        "\n",
        "1. start(=0) + 1 + 2 + 3 을 계산해\n",
        "2. 6을 리턴합니다.\n",
        "\n",
        "sum([[1,2],[3,4],[5,6]], [])을 호출하면\n",
        "\n",
        "1. start(=[]) + [1,2] + [3,4] + [5,6]을 계산해\n",
        "2. [1,2,3,4,5,6]을 리턴합니다."
      ]
    },
    {
      "cell_type": "markdown",
      "metadata": {
        "id": "AGEa_G3Neum7"
      },
      "source": [
        "itertools는 파이썬의 표준 라이브러리이므로, 모든 플랫폼에서 사용 가능하나, numpy는 엄밀히 말하면 third party library이므로, numpy 지원여부는 플랫폼마다 다르다.\n",
        "\n"
      ]
    },
    {
      "cell_type": "markdown",
      "metadata": {
        "id": "nX7rm4MrUE5X"
      },
      "source": [
        "###**순열과 조합 - combinations, permutations**\n",
        "\n",
        "예시)\n",
        "1,2,3의 숫자가 적힌 카드가 있을 때, 이 중 두 장을 꺼내는 경우의 수 -> 12, 13, 21, 23, 31, 32\n",
        "\n",
        "'A', 'B', 'C'로 만들 수 있는 경우의 수 -> 'ABC', 'ACB', 'BAC', 'BCA', 'CAB', 'CBA'"
      ]
    },
    {
      "cell_type": "markdown",
      "metadata": {
        "id": "vqAYOMFKUXn7"
      },
      "source": [
        "문제 설명\n",
        "\n",
        "숫자를 담은 일차원 리스트, mylist에 대해 mylist의 원소로 이루어진 모든 순열을 사전순으로 리턴하는 함수 solution을 완성해주세요.\n",
        "\n",
        "\n",
        "제한 조건\n",
        "\n",
        "mylist 의 길이는 1 이상 100 이하인 자연수입니다."
      ]
    },
    {
      "cell_type": "code",
      "metadata": {
        "id": "jznazRZVVbeO"
      },
      "source": [
        "from itertools import permutations\n",
        "\n",
        "def solution(mylist):\n",
        "    return sorted(list(permutations(mylist, len(mylist))))"
      ],
      "execution_count": null,
      "outputs": []
    },
    {
      "cell_type": "code",
      "metadata": {
        "id": "Kp4HRkKvUN37"
      },
      "source": [
        "#Before\n",
        "def permute(arr):\n",
        "    result = [arr[:]]\n",
        "    c = [0] * len(arr)\n",
        "    i = 0\n",
        "    while i < len(arr):\n",
        "        if c[i] < i:\n",
        "            if i % 2 == 0:\n",
        "                arr[0], arr[i] = arr[i], arr[0]\n",
        "            else:\n",
        "                arr[c[i]], arr[i] = arr[i], arr[c[i]]\n",
        "            result.append(arr[:])\n",
        "            c[i] += 1\n",
        "            i = 0\n",
        "        else:\n",
        "            c[i] = 0\n",
        "            i += 1\n",
        "    return result"
      ],
      "execution_count": null,
      "outputs": []
    },
    {
      "cell_type": "code",
      "metadata": {
        "colab": {
          "base_uri": "https://localhost:8080/"
        },
        "id": "LpzDNU0MUQZo",
        "outputId": "e9f3eeba-cb1f-442e-9dcb-bfd5781a4687"
      },
      "source": [
        "#After\n",
        "import itertools\n",
        "\n",
        "pool = ['A', 'B', 'C']\n",
        "print(list(map(''.join, itertools.permutations(pool)))) # 3개의 원소로 수열 만들기\n",
        "print(list(map(''.join, itertools.permutations(pool, 2)))) # 2개의 원소로 수열 만들기"
      ],
      "execution_count": null,
      "outputs": [
        {
          "output_type": "stream",
          "name": "stdout",
          "text": [
            "['ABC', 'ACB', 'BAC', 'BCA', 'CAB', 'CBA']\n",
            "['AB', 'AC', 'BA', 'BC', 'CA', 'CB']\n"
          ]
        }
      ]
    },
    {
      "cell_type": "markdown",
      "metadata": {
        "id": "s5G8f6RWV2lc"
      },
      "source": [
        "###**가장 많이 등장하는 알파벳 찾기**\n",
        "**문제 설명**\n",
        "\n",
        "이 문제에는 표준 입력으로 문자열, mystr이 주어집니다. mystr에서 가장 많이 등장하는 알파벳만을 사전 순으로 출력하는 코드를 작성해주세요.\n",
        "\n",
        "\n",
        "**제한 조건**\n",
        "\n",
        "mystr의 원소는 알파벳 소문자로만 주어집니다.\n",
        "\n",
        "mystr의 길이는 1 이상 100 이하입니다."
      ]
    },
    {
      "cell_type": "code",
      "metadata": {
        "id": "UrCkXaDQXEeS"
      },
      "source": [
        "from collections import Counter\n",
        "\n",
        "mylist = input().strip()\n",
        "dic = dict(Counter(mylist))\n",
        "\n",
        "values = [i for i in dic.values()]\n",
        "values = sorted(values, reverse=True)\n",
        "\n",
        "big = values[0]\n",
        "\n",
        "result = [i for i, k in dic.items() if big == k] # 가장 많이 나온 알파벳 모두를 추출 \n",
        "result = ''.join(sorted(result)) # (알파벳 순서대로 정렬)\n",
        "print(result)"
      ],
      "execution_count": null,
      "outputs": []
    },
    {
      "cell_type": "code",
      "metadata": {
        "id": "4CxvXn9eqDl_"
      },
      "source": [
        "import collections\n",
        "my_list = [1, 2, 3, 4, 5, 6, 7, 8, 7, 9, 1, 2, 3, 3, 5, 2, 6, 8, 9, 0, 1, 1, 4, 7, 0]\n",
        "answer = collections.Counter(my_list)\n",
        "\n",
        "print(answer[1]) # = 4\n",
        "print(answer[3])  # = 3\n",
        "print(answer[100]) # = 0"
      ],
      "execution_count": null,
      "outputs": []
    },
    {
      "cell_type": "markdown",
      "metadata": {
        "id": "Lk1WcCYb15bW"
      },
      "source": [
        "##**파트7. 기타**"
      ]
    },
    {
      "cell_type": "markdown",
      "metadata": {
        "id": "EHh1c5wBqiVE"
      },
      "source": [
        "### **list comprehension**"
      ]
    },
    {
      "cell_type": "code",
      "metadata": {
        "id": "mh90JfhMqLev"
      },
      "source": [
        "mylist = [3, 2, 6, 7]\n",
        "answer = []\n",
        "for number in mylist:\n",
        "    if number % 2 == 0:\n",
        "        answer.append(number**2) # 들여쓰기를 두 번 함"
      ],
      "execution_count": null,
      "outputs": []
    },
    {
      "cell_type": "code",
      "metadata": {
        "id": "1ujrNGAeqNaM"
      },
      "source": [
        "mylist = [3, 2, 6, 7]\n",
        "answer = [number**2 for number in mylist if number % 2 == 0]\n",
        "\n",
        "# 파이썬의 list comprehension을 사용하면 한 줄 에 for, if문 처리 한 번에 가능"
      ],
      "execution_count": null,
      "outputs": []
    },
    {
      "cell_type": "markdown",
      "metadata": {
        "id": "TVEVm-Qqqkq0"
      },
      "source": [
        "숫자를 차례로 곱해 나온 수가 제곱수1가 되면 found를 출력하고 모든 수를 곱해도 제곱수가 나오지 않았다면 not found를 출력하는 코드 작성"
      ]
    },
    {
      "cell_type": "code",
      "metadata": {
        "id": "Ypg4JKRHq39n"
      },
      "source": [
        "# 내 코드\n",
        "\n",
        "str_ = ''\n",
        "n = 1\n",
        "for i in range(5):\n",
        "    f = int(input())\n",
        "    n *= f\n",
        "    if n**0.5 == int(n**0.5):\n",
        "        print('found')\n",
        "        break\n",
        "    else:\n",
        "        str_ += '*'\n",
        "if len(str_) == 5:\n",
        "     print('not found')"
      ],
      "execution_count": null,
      "outputs": []
    },
    {
      "cell_type": "markdown",
      "metadata": {
        "id": "xw99zqVWuJm5"
      },
      "source": [
        "### **파이썬 for-else 문**"
      ]
    },
    {
      "cell_type": "code",
      "metadata": {
        "id": "cqMMegoMq35C"
      },
      "source": [
        "# Before\n",
        "\n",
        "import math\n",
        "\n",
        "if __name__ == '__main__':\n",
        "    numbers = [int(input()) for _ in range(5)]\n",
        "    multiplied = 1\n",
        "    flag = True\n",
        "    for number in numbers:\n",
        "        multiplied *= number\n",
        "        if math.sqrt(multiplied) == int(math.sqrt(multiplied)):\n",
        "            flag = False\n",
        "            print('found')\n",
        "            break\n",
        "\n",
        "    if flag:\n",
        "        print('not found')"
      ],
      "execution_count": null,
      "outputs": []
    },
    {
      "cell_type": "code",
      "metadata": {
        "id": "nbxAozqduD16"
      },
      "source": [
        "# After \n",
        "\n",
        "import math\n",
        "\n",
        "if __name__ == '__main__':\n",
        "    numbers = [int(input()) for _ in range(5)]\n",
        "    multiplied = 1\n",
        "    for number in numbers:\n",
        "        multiplied *= number\n",
        "        if math.sqrt(multiplied) == int(math.sqrt(multiplied)):\n",
        "            print('found')\n",
        "            break\n",
        "    else:\n",
        "        print('not found')"
      ],
      "execution_count": null,
      "outputs": []
    },
    {
      "cell_type": "code",
      "metadata": {
        "id": "kZKgBpEiuRh_"
      },
      "source": [
        "# 내 코드 수정\n",
        "\n",
        "n = 1\n",
        "for i in range(5):\n",
        "    f = int(input())\n",
        "    n *= f\n",
        "    if n**0.5 == int(n**0.5):\n",
        "        print('found')\n",
        "        break\n",
        "else:\n",
        "    print('not found')"
      ],
      "execution_count": null,
      "outputs": []
    },
    {
      "cell_type": "code",
      "metadata": {
        "id": "hiGDpFhd1V_6"
      },
      "source": [
        "def solution(mylist):\n",
        "    answer = []\n",
        "    for i in mylist:\n",
        "        if (i % 2) == 0:\n",
        "            answer.append(i**2)\n",
        "    return answer"
      ],
      "execution_count": null,
      "outputs": []
    },
    {
      "cell_type": "markdown",
      "metadata": {
        "id": "PMpz9fF3ujvR"
      },
      "source": [
        "### **두 변수의 값 바꾸기**"
      ]
    },
    {
      "cell_type": "code",
      "metadata": {
        "id": "NYSzqN4dulNC"
      },
      "source": [
        "# Before\n",
        "\n",
        "a = 3\n",
        "b = 'abc'\n",
        "\n",
        "temp = a\n",
        "a = b\n",
        "b = temp"
      ],
      "execution_count": null,
      "outputs": []
    },
    {
      "cell_type": "code",
      "metadata": {
        "id": "lqvP85vrupGG"
      },
      "source": [
        "# After\n",
        "\n",
        "a = 3\n",
        "b = 'abc'\n",
        "\n",
        "a, b = b, a"
      ],
      "execution_count": null,
      "outputs": []
    },
    {
      "cell_type": "markdown",
      "metadata": {
        "id": "9BPFfk6Mu1gI"
      },
      "source": [
        "### **이진 탐색하기**\n",
        "\n",
        "index 함수는 이진 탐색이 아닌 선형 탐색 함수.\n",
        "\n",
        "이진탐색은 O(log N)\n",
        "\n",
        "선형탐색은 O(N)\n",
        "\n",
        "\n",
        "key값이 없으면 해당 key값이 들어갈 위치를 반환."
      ]
    },
    {
      "cell_type": "code",
      "metadata": {
        "colab": {
          "base_uri": "https://localhost:8080/"
        },
        "id": "G9LehsnGu4tV",
        "outputId": "b5d6539c-8af3-47e7-94c1-97ee86b908a6"
      },
      "source": [
        "# Before\n",
        "\n",
        "def bisect(a, x, lo=0, hi=None):\n",
        "    if lo < 0:\n",
        "        raise ValueError('lo must be non-negative')\n",
        "    if hi is None:\n",
        "        hi = len(a)\n",
        "    while lo < hi:\n",
        "        mid = (lo + hi) // 2\n",
        "        if a[mid] < x:\n",
        "            lo = mid + 1\n",
        "        else:\n",
        "            hi = mid\n",
        "    return lo\n",
        "\n",
        "mylist = [1, 2, 3, 7, 9, 11, 33]\n",
        "print(bisect(mylist, 23))"
      ],
      "execution_count": 13,
      "outputs": [
        {
          "output_type": "stream",
          "name": "stdout",
          "text": [
            "6\n"
          ]
        }
      ]
    },
    {
      "cell_type": "code",
      "metadata": {
        "colab": {
          "base_uri": "https://localhost:8080/"
        },
        "id": "CevqPLAKvhHy",
        "outputId": "27576ff0-f734-42f4-fc6f-90e798d7e13c"
      },
      "source": [
        "# After\n",
        "\n",
        "import bisect\n",
        "mylist = [1, 2, 3, 7, 9, 11, 33]\n",
        "print(bisect.bisect(mylist, 11))"
      ],
      "execution_count": 12,
      "outputs": [
        {
          "output_type": "stream",
          "name": "stdout",
          "text": [
            "6\n"
          ]
        }
      ]
    },
    {
      "cell_type": "markdown",
      "metadata": {
        "id": "S-bBNHg1u4LD"
      },
      "source": [
        "### **클래스 인스턴스 출력하기 - class의 자동 string casting**"
      ]
    },
    {
      "cell_type": "code",
      "metadata": {
        "id": "-F6Z181kwx2R"
      },
      "source": [
        "# 보통은 클래스 바깥에 출력 함수를 만들거나, print 문 안에서 format을 지정.\n",
        "\n",
        "class Coord(object):\n",
        "    def __init__(self, x, y):\n",
        "        self.x, self.y = x, y\n",
        "\n",
        "point = Coord(1, 2)\n",
        "print( '({}, {})'.format(point.x, point.y) ) \n",
        "\n",
        "# 또는\n",
        "def print_coord(coord):\n",
        "    print( '({}, {})'.format(coord.x, coord.y) )\n",
        "print_coord(point)"
      ],
      "execution_count": null,
      "outputs": []
    },
    {
      "cell_type": "code",
      "metadata": {
        "id": "SZ0mn1Yaw3Ir"
      },
      "source": [
        "# 파이썬에서는 __str__ 메소드를 사용해 class 내부에서 출력 format을 지정 가능\n",
        "\n",
        "class Coord(object):\n",
        "    def __init__ (self, x, y):\n",
        "        self.x, self.y = x, y\n",
        "    def __str__ (self):\n",
        "        return '({}, {})'.format(self.x, self.y)\n",
        "\n",
        "point = Coord(1, 2)"
      ],
      "execution_count": null,
      "outputs": []
    },
    {
      "cell_type": "markdown",
      "metadata": {
        "id": "T9D2svrzCKps"
      },
      "source": [
        "###**가장 큰 수, inf**\n",
        "\n",
        "코딩 테스트 문제 등을 풀다 보면, 최솟값을 저장하는 변수에 아주 큰 값을 할당해야 할 때가 있다. inf는 어떤 숫자와 비교해도 무조건 크다고 판정된다."
      ]
    },
    {
      "cell_type": "code",
      "metadata": {
        "colab": {
          "base_uri": "https://localhost:8080/"
        },
        "id": "E7mdgWUFCeZI",
        "outputId": "b121ea5e-2769-450e-e101-f01a4119ada9"
      },
      "source": [
        "min_val = float('inf')\n",
        "min_val > 10000000000"
      ],
      "execution_count": null,
      "outputs": [
        {
          "output_type": "execute_result",
          "data": {
            "text/plain": [
              "True"
            ]
          },
          "metadata": {},
          "execution_count": 1
        }
      ]
    },
    {
      "cell_type": "code",
      "metadata": {
        "id": "MT1zWkhsClP9"
      },
      "source": [
        "# 음수도 가능\n",
        "max_val = float('-inf')"
      ],
      "execution_count": null,
      "outputs": []
    },
    {
      "cell_type": "markdown",
      "metadata": {
        "id": "mtqziCidBqiZ"
      },
      "source": [
        "###**파일 입출력 간단하게 하기**\n",
        "'myfile.txt'라는 이름의 파일을 읽는 코드 짜기"
      ]
    },
    {
      "cell_type": "code",
      "metadata": {
        "id": "kLKdDBM0Buum"
      },
      "source": [
        "# 다른 언어에서는 EOF를 만날 때까지 파일 읽기를 반복함.\n",
        "f = open('myfile.txt', 'r')\n",
        "while True:\n",
        "    line = f.readline()\n",
        "    if not line: \n",
        "        break\n",
        "    raw = line.split()\n",
        "    print(raw)\n",
        "f.close()"
      ],
      "execution_count": null,
      "outputs": []
    },
    {
      "cell_type": "code",
      "metadata": {
        "id": "H7j5koePB3zG"
      },
      "source": [
        "# 파이썬\n",
        "with open('myfile.txt') as file:\n",
        "    for line in file.readlines():\n",
        "        print(line.strip().split('\\t'))"
      ],
      "execution_count": null,
      "outputs": []
    },
    {
      "cell_type": "markdown",
      "metadata": {
        "id": "yVlzJsXoB7eJ"
      },
      "source": [
        "파이썬의 with - as 구문을 이용하면 코드를 더 간결하게 짤 수 있다. 코드를 아래와 같이 쓰면 다음과 같은 장점이 있다.\n",
        "\n",
        "1. 파일을 close 하지 않아도 된다: with - as 블록이 종료되면 파일이 자동으로 close 됨.\n",
        "2. readlines가 EOF까지만 읽으므로, while 문 안에서 EOF를 체크할 필요가 없다.\n",
        "\n",
        "⨳ with - as 구문은 파일 뿐만 아니라 socket이나 http 등에서도 사용할 수 있다."
      ]
    }
  ]
}