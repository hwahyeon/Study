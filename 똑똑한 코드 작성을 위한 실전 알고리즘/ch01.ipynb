{
 "cells": [
  {
   "cell_type": "markdown",
   "metadata": {},
   "source": [
    "# Chapter 01 문제해결"
   ]
  },
  {
   "cell_type": "markdown",
   "metadata": {},
   "source": [
    "## 1.1 알고리즘이란"
   ]
  },
  {
   "cell_type": "markdown",
   "metadata": {},
   "source": [
    "## 1.2 리스트에서 가장 큰 값 찾기"
   ]
  },
  {
   "cell_type": "code",
   "execution_count": null,
   "metadata": {},
   "outputs": [],
   "source": [
    "# code 1-1\n",
    "def flawed(A):\n",
    "    my_max = 0\n",
    "    for v in A:\n",
    "        if my_max < v:\n",
    "            my_max = v\n",
    "    return my_max"
   ]
  },
  {
   "cell_type": "markdown",
   "metadata": {},
   "source": [
    "위 구현은 A에 0보다 큰 수가 적어도 한 개 있다고 가정하므로 결함이 있는 코드다.\n",
    "my_max의 초기값을 float('-inf')처럼 가능한 가장 작은 값으로 할 수 있지만, 여전히 결함이 있다고 할 수 있다.\n",
    "\n",
    "*tip\n",
    "\n",
    "list(range(1, 7))"
   ]
  },
  {
   "cell_type": "markdown",
   "metadata": {},
   "source": [
    "## 1.3 주요 연산 횟수 계산하기"
   ]
  },
  {
   "cell_type": "code",
   "execution_count": null,
   "metadata": {},
   "outputs": [],
   "source": [
    "# code 1-2\n",
    "def largest(A):\n",
    "    my_max = A[0]\n",
    "    for idx in range(1, len(A)):\n",
    "        if my_max < A[idx]:\n",
    "            my_max = A[idx]\n",
    "    return my_max"
   ]
  },
  {
   "cell_type": "markdown",
   "metadata": {},
   "source": [
    "largest()는 max()와 같은 알고리즘의 구현이나, max보다 일반적으로 4배 느리다. Python은 인터프리어에 의해 실행되는 중간 바이트 코드로 컴파일된다. max() 같은 내장 함수는 인터프리터 내에서 구현되므로, 직접 작성한 Python 코드보다 성능이 좋다."
   ]
  },
  {
   "cell_type": "markdown",
   "metadata": {},
   "source": [
    "## 1.4 모델로 알고리즘 성능 예측하기"
   ]
  },
  {
   "cell_type": "code",
   "execution_count": null,
   "metadata": {},
   "outputs": [],
   "source": [
    "# code 1-3\n",
    "def alternate(A):\n",
    "    for v in A:\n",
    "        v_is_largest = True\n",
    "        for x in A:\n",
    "            if v < x:\n",
    "                v_is_largest = False\n",
    "                break\n",
    "        if v_is_largest:\n",
    "            return v\n",
    "    return None    #A가 빈 리스트인 경우"
   ]
  },
  {
   "cell_type": "markdown",
   "metadata": {},
   "source": [
    "최상 A = [9,5,2,1,3,4]  \n",
    "최악 A = [1,2,3,4,5,9]  \n",
    "문제 인스턴스의 크기가 두 배로 증가할 때, alternate()의 수행 시간은 4배가 된다."
   ]
  },
  {
   "cell_type": "markdown",
   "metadata": {},
   "source": [
    "## 1.5 리스트에서 가장 큰 두 수 찾기"
   ]
  },
  {
   "cell_type": "code",
   "execution_count": null,
   "metadata": {},
   "outputs": [],
   "source": [
    "# code 1-4\n",
    "def largest_two(A):\n",
    "    my_max, second = A[:2]\n",
    "    if my_max < second:\n",
    "        my_max, second = second, my_max\n",
    "    \n",
    "    for idx in range(2, len(A)):\n",
    "        if my_max < A[idx]:\n",
    "            my_max, second = A[idx], my_max\n",
    "        elif second < A[idx]:\n",
    "            second = A[idx]\n",
    "    return (my_max, second)"
   ]
  },
  {
   "cell_type": "markdown",
   "metadata": {},
   "source": [
    "A값이 오름차순이라면, 미만 연산은 항상 참이므로 N-2회 수행 (처음 두 값을 사용해서 남은 값 N-2개)  \n",
    "여기에 맨 처음 미만 연산을 사용했으므로, 최종적으로 N-1회 수행이다.  \n",
    "이것이 최상의 경우이기 때문에 elif 조건의 미만 연산은 사용할 필요 없다.  \n",
    "A값이 내림차순인 최악의 경우라면, for 루프마다 미만 연산이 두 번씩 사용되므로, 1 + 2(N-2) 이므로 2N-3회다.  "
   ]
  },
  {
   "cell_type": "markdown",
   "metadata": {},
   "source": [
    "최상의 알고리즘인지 판단하는 추가 질문  \n",
    "필요한 추가 저장공간이 있는가? -> 알고리즘은 원본 문제 인스턴스의 복사본을 만들 필요가 있는가?  \n",
    "프로그래밍 수고 -> 코드를 몇 줄이나 작성해야 하는가?  \n",
    "가변 입력 -> 알고리즘은 문제 인스턴스 자체를 수정하는가 아닌가?  \n",
    "속도 -> 제공된 입력과 별개로 완료에 나은 결과는 가져다 주는가?  "
   ]
  },
  {
   "cell_type": "code",
   "execution_count": null,
   "metadata": {},
   "outputs": [],
   "source": [
    "#code 1-5\n",
    "def sorting_two(A):\n",
    "    return tuple(sorted(A, reverse=True)[:2])\n",
    "\n",
    "def double_two(A):\n",
    "    my_max = max(A)\n",
    "    copy = list(A)\n",
    "    copy.remove(my_max)\n",
    "    return (my_max, max(copy))\n",
    "\n",
    "def mutable_two(A):\n",
    "    idx = max(range(len(A)), key=A.__getitem__) #A에서 가장 큰 값의 위치 인덱스를 찾는 Python 트릭\n",
    "    my_max = A[idx]\n",
    "    del A[idx]\n",
    "    second = max(A)\n",
    "    A.insert(idx, my_max)\n",
    "    return (my_max, second)"
   ]
  },
  {
   "cell_type": "markdown",
   "metadata": {},
   "source": [
    "*평가  \n",
    "sorting_two()와 double_two()는 A의 복사본을 만들기에, 추가 저장 공간은 저장 공간의 양이 N에 정비례한다.  \n",
    "mutable_two()는 원본 리스트가 수정된다."
   ]
  },
  {
   "cell_type": "markdown",
   "metadata": {},
   "source": [
    "## 1.6 토너먼트 알고리즘"
   ]
  },
  {
   "cell_type": "markdown",
   "metadata": {},
   "source": [
    "tip  \n",
    "휴대용 계산기의 log()는 밑수가 대부분 10이지만, 전통적인 컴퓨터 과학에서 log()의 밑수는 2이다.  \n",
    "휴대용 계산기에서 밑수가 2인 log를 계산하려면, log(N)/log(2)로 하면 된다.  \n",
    "\n",
    "토너먼트의 라운드 수는 log(N)이며, 두 번째로 작은 수를 구하는데 비교해야할 경우는 log(N)-1이다."
   ]
  },
  {
   "cell_type": "code",
   "execution_count": null,
   "metadata": {},
   "outputs": [],
   "source": [
    "#code 1-6\n",
    "def tournament_two(A):\n",
    "    N = len(A)\n",
    "    winner = [None] * (N-1)\n",
    "    loser = [None] * (N-1)\n",
    "    prior = [-1] * (N-1)\n",
    "\n",
    "    idx = 0\n",
    "    for i in range(0, N, 2):\n",
    "        if A[i] < A[i+1]:\n",
    "            winner[idx] = A[i+1]\n",
    "            loser[idx] = A[i]\n",
    "        else:\n",
    "            winner[idx] = A[i]\n",
    "            loser[idx] = A[i+1]\n",
    "        idx += 1\n",
    "    \n",
    "    m = 0\n",
    "    while idx < N-1:\n",
    "        if winner[m] < winner[m+1]:\n",
    "            winner[idx] = winner[m+1]\n",
    "            loser[idx] = winner[m]\n",
    "            prior[idx] = m+1\n",
    "        else:\n",
    "            winner[idx] = winner[m]\n",
    "            loser[idx] = winner[m+1]\n",
    "            prior[idx] = m\n",
    "        m += 2\n",
    "        idx += 1\n",
    "    \n",
    "    largest = winner[m]\n",
    "    second = loser[m]\n",
    "    m = prior[m]\n",
    "    while m >= 0:\n",
    "        if second < loser[m]:\n",
    "            second = loser[m]\n",
    "        m = prior[m]\n",
    "    \n",
    "    return (largest, second)"
   ]
  },
  {
   "cell_type": "markdown",
   "metadata": {},
   "source": [
    "지금까지 본 다섯 가지 접근의 런타임을 보면 tournament_two는 그렇게 좋은 성능을 내지 못하는 것을 볼 수 있다.  \n",
    "알고리즘의 고유한 복잡성complexity를 설명하는 두 가지 기본 개념을 이해할 필요가 있다."
   ]
  },
  {
   "cell_type": "markdown",
   "metadata": {},
   "source": [
    "## 1.7 시간 복잡도와 공간 복잡도"
   ]
  },
  {
   "cell_type": "code",
   "execution_count": null,
   "metadata": {},
   "outputs": [],
   "source": [
    "#code 1-7\n",
    "\n",
    "def f0(N):\n",
    "    ct = 0\n",
    "    ct = ct + 1\n",
    "    ct = ct + 1\n",
    "    return ct\n",
    "\n",
    "def f1(N):\n",
    "    ct = 0\n",
    "    for i in range(N):\n",
    "        ct = ct + 1\n",
    "    return ct\n",
    "\n",
    "def f2(N):\n",
    "    ct = 0\n",
    "    for i in range(N):\n",
    "        ct = ct + 1\n",
    "        ct = ct + 1\n",
    "        ct = ct + 1\n",
    "        ct = ct + 1\n",
    "        ct = ct + 1\n",
    "        ct = ct + 1\n",
    "        ct = ct + 1\n",
    "    return ct\n",
    "\n",
    "def f3(N):\n",
    "    ct = 0\n",
    "    for i in range(N):\n",
    "        for j in range(N):\n",
    "            ct = ct + 1\n",
    "    return ct\n"
   ]
  },
  {
   "cell_type": "markdown",
   "metadata": {},
   "source": [
    "Time complexity의 목표는 알고리즘에 의해 기본 연산이 수행된 횟수를 문제 인스턴스의 크기 N의 함수로 계산하는 C(N)을 찾는 것.  \n",
    "f0에 대한 횟수는 N에 독립적으로 항상 같다.  \n",
    "f2는 f1의 일곱 배이며, f1과 f2 모두 N이 두 배가 되면 두 배로 증가한다.\n",
    "f3는 N이 두 배가 되면 네 배가 된다.\n",
    "\n",
    "|N|f0|f1|f2|f3|\n",
    "|:---|:---|:---|:---:|:---:|\n",
    "|215|2|512|3584|262144|\n",
    "|1024|2|1024|7168|1048576|\n",
    "|2048|2|2048|14336|4194304|"
   ]
  },
  {
   "cell_type": "markdown",
   "metadata": {},
   "source": [
    "Space complexity는 문제 인스턴스 크기 N에 기반해 알고리즘에 필요한 추가 메모리 공간을 의미한다.  \n",
    "문제 인스턴스의 크기와 상관없이 추가 공간은 변하지 않는다 -> 공간 복잡도가 문제 인스턴스에 독립적이거나 상수라는 뜻  "
   ]
  },
  {
   "cell_type": "markdown",
   "metadata": {},
   "source": [
    "## 1.8 요약"
   ]
  },
  {
   "cell_type": "markdown",
   "metadata": {},
   "source": [
    "시간 복잡도 : 크기가 N인 문제 인스턴스에서 알고리즘에 의해 실행된 주요 연산의 수를 계산해 측정.\n",
    "공간 복잡도 : 크기가 N인 문제 인스턴스에서 알고리즘을 실행하는 데 필요한 메모리의 양으로 측정"
   ]
  },
  {
   "cell_type": "markdown",
   "metadata": {},
   "source": [
    "## 1.9 연습 문제"
   ]
  },
  {
   "cell_type": "markdown",
   "metadata": {},
   "source": [
    "### 1. 회문 검출기(Palindrome word detector) : 앞에서 읽든, 뒤에서 읽든 똑같이 읽히는 단어를 검증하는 알고리즘  "
   ]
  },
  {
   "cell_type": "code",
   "execution_count": null,
   "metadata": {},
   "outputs": [],
   "source": [
    "#code 1-8\n",
    "def is_palindrome1(w):\n",
    "    return w[::-1] == w\n",
    "\n",
    "def is_palindrome2(w):\n",
    "    '''맨 앞과 맨 끝 문자가 같으면 문자를 잘라내고, 다르면 false 반환'''\n",
    "    while len(w) > 1:\n",
    "        if w[0] != w[-1]:\n",
    "            return False\n",
    "        w = w[1:-1]\n",
    "    return True"
   ]
  },
  {
   "cell_type": "markdown",
   "metadata": {},
   "source": [
    "공백, 구두점 및 대소문자 혼합이 있는 문자열을 검출할 수 있도록 수정하라.\n",
    "ex) \"A man, a plan, a canal. Panama!\""
   ]
  },
  {
   "cell_type": "code",
   "execution_count": 7,
   "metadata": {},
   "outputs": [
    {
     "data": {
      "text/plain": [
       "True"
      ]
     },
     "execution_count": 7,
     "metadata": {},
     "output_type": "execute_result"
    }
   ],
   "source": [
    "#My solution\n",
    "import re\n",
    "w = \"A man, a plan, a canal. Panama!\"\n",
    "\n",
    "def is_palindrome_mine(w):\n",
    "    t = re.sub('[,.\\'\\\"! ]', '', w.lower())\n",
    "    return t[::-1] == t\n",
    "\n",
    "is_palindrome_mine(w)"
   ]
  },
  {
   "cell_type": "markdown",
   "metadata": {},
   "source": [
    "### 2. 선형 시간 중앙값(linear time median)"
   ]
  },
  {
   "cell_type": "code",
   "execution_count": null,
   "metadata": {},
   "outputs": [],
   "source": [
    "#Code 1-9 정렬되지 않은 리스트에서 중앙값 계산하는 선형 시간 알고리즘\n",
    "def partition(A, lo, hi, idx):\n",
    "    \n"
   ]
  },
  {
   "cell_type": "markdown",
   "metadata": {},
   "source": [
    "### 3. 계수 정렬(counting sort)"
   ]
  },
  {
   "cell_type": "code",
   "execution_count": null,
   "metadata": {},
   "outputs": [],
   "source": [
    "#code 1-10\n",
    "def counting_sort(A, M):\n",
    "    counts = [0] * M\n",
    "    for v in A:\n",
    "        counts[v] += 1\n",
    "    \n",
    "    pos = 0\n",
    "    v = 0\n",
    "    while pos < len(A):\n",
    "        for idx in range(counts[v]):\n",
    "            A[pos+idx] = v\n",
    "        pos += counts[v]\n",
    "        v += 1"
   ]
  },
  {
   "cell_type": "markdown",
   "metadata": {},
   "source": [
    "내부의 for 루프를 제거하고, 하위 리스트를 교체하는 파이썬 기능 sublist[left:right] = [2,3,4]를 사용해 연산의 성능을 향상하라. N의 크기가 두배가 되더라도 속도는 30% 향상되도록 하라."
   ]
  },
  {
   "cell_type": "code",
   "execution_count": null,
   "metadata": {},
   "outputs": [],
   "source": []
  },
  {
   "cell_type": "markdown",
   "metadata": {},
   "source": [
    "### 4. 토너먼트 알고리즘이 홀수 개 값으로 작동하도록 수정하자."
   ]
  },
  {
   "cell_type": "markdown",
   "metadata": {},
   "source": [
    "### My solution\n",
    "문제가 명확하지가 않다. 리스트가 홀수 개인 경우에도 동작하도록 만들라는 지시로 이해했다.  \n",
    "처음 리스트의 길이를 세고, 리스트의 길이가 홀수라면 float('-inf')을 추가해서 부전승으로 만들었다.  \n",
    "min(A)를 사용하면 문제의 취지에 어긋나는 것 같아서 사용하지 않았다."
   ]
  },
  {
   "cell_type": "code",
   "execution_count": 31,
   "metadata": {},
   "outputs": [],
   "source": [
    "def tournament_three(A):\n",
    "    # Addition\n",
    "    if len(A) % 2 != 0:\n",
    "        A.append(float('-inf'))\n",
    "    #\n",
    "\n",
    "    N = len(A)\n",
    "    winner = [None] * (N-1)\n",
    "    loser = [None] * (N-1)\n",
    "    prior = [-1] * (N-1)\n",
    "\n",
    "    idx = 0\n",
    "    for i in range(0, N, 2):\n",
    "        if A[i] < A[i+1]:\n",
    "            winner[idx] = A[i+1]\n",
    "            loser[idx] = A[i]\n",
    "        else:\n",
    "            winner[idx] = A[i]\n",
    "            loser[idx] = A[i+1]\n",
    "        idx += 1\n",
    "    \n",
    "    m = 0\n",
    "    while idx < N-1:\n",
    "        if winner[m] < winner[m+1]:\n",
    "            winner[idx] = winner[m+1]\n",
    "            loser[idx] = winner[m]\n",
    "            prior[idx] = m+1\n",
    "        else:\n",
    "            winner[idx] = winner[m]\n",
    "            loser[idx] = winner[m+1]\n",
    "            prior[idx] = m\n",
    "        m += 2\n",
    "        idx += 1\n",
    "    \n",
    "    largest = winner[m]\n",
    "    second = loser[m]\n",
    "    m = prior[m]\n",
    "    while m >= 0:\n",
    "        if second < loser[m]:\n",
    "            second = loser[m]\n",
    "        m = prior[m]\n",
    "    \n",
    "    return (largest, second)"
   ]
  },
  {
   "cell_type": "code",
   "execution_count": 32,
   "metadata": {},
   "outputs": [
    {
     "data": {
      "text/plain": [
       "(5, 4)"
      ]
     },
     "execution_count": 32,
     "metadata": {},
     "output_type": "execute_result"
    }
   ],
   "source": [
    "tournament_three([1,2,3,4,5])"
   ]
  },
  {
   "cell_type": "markdown",
   "metadata": {},
   "source": [
    "### 5. code 1-11이 가장 큰 두 값을 찾을 수 있는가? 언제 제대로 동작하고 언제 실패하는지 설명하라."
   ]
  },
  {
   "cell_type": "code",
   "execution_count": 1,
   "metadata": {},
   "outputs": [],
   "source": [
    "#code 1-11\n",
    "def two_largest_attempt(A):\n",
    "    m1 = max(A[:len(A)//2])\n",
    "    m2 = max(A[len(A)//2:])\n",
    "    if m1 < m2:\n",
    "        return (m2, m1)\n",
    "    return (m1, m2)"
   ]
  },
  {
   "cell_type": "markdown",
   "metadata": {},
   "source": [
    "### My solution\n",
    "two_largest_attempt()함수는 리스트를 두 덩어리로 나눈다. m1과 m2가 각각의 덩어리에 있는 경우라면, 함수는 정상 동작하겠지만 한 덩어리에 m1과 m2가 동시 존재하는 경우라면 함수는 제대로 작동하지 않는다."
   ]
  }
 ],
 "metadata": {
  "interpreter": {
   "hash": "d49c3f6d6dd49f9272b571d9fad348ab55b8c6c3f691520d74ed0af1f69c3dd8"
  },
  "kernelspec": {
   "display_name": "Python 3.7.7 64-bit",
   "language": "python",
   "name": "python3"
  },
  "language_info": {
   "codemirror_mode": {
    "name": "ipython",
    "version": 3
   },
   "file_extension": ".py",
   "mimetype": "text/x-python",
   "name": "python",
   "nbconvert_exporter": "python",
   "pygments_lexer": "ipython3",
   "version": "3.7.7"
  },
  "orig_nbformat": 4
 },
 "nbformat": 4,
 "nbformat_minor": 2
}
